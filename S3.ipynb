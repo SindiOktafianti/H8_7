{
 "cells": [
  {
   "cell_type": "markdown",
   "id": "161f585c",
   "metadata": {},
   "source": [
    "# Python Function"
   ]
  },
  {
   "cell_type": "code",
   "execution_count": 1,
   "id": "fe5cabb9",
   "metadata": {},
   "outputs": [],
   "source": [
    "def function_name( parameters ):\n",
    "    \"docstring\"\n",
    "    statement(s)"
   ]
  },
  {
   "cell_type": "code",
   "execution_count": 5,
   "id": "0edd8159",
   "metadata": {},
   "outputs": [],
   "source": [
    "def my_function(p, l):\n",
    "    \"Function untuk menghitung luas\"\n",
    "    print(p * l)"
   ]
  },
  {
   "cell_type": "code",
   "execution_count": 6,
   "id": "5aa32b69",
   "metadata": {},
   "outputs": [
    {
     "name": "stdout",
     "output_type": "stream",
     "text": [
      "8\n"
     ]
    }
   ],
   "source": [
    "  my_function(2,4)"
   ]
  },
  {
   "cell_type": "code",
   "execution_count": 7,
   "id": "cc26cd02",
   "metadata": {},
   "outputs": [],
   "source": [
    "def printme( str ):\n",
    "    \"This prints a passed string into this function\"\n",
    "    print(str)\n",
    "    return"
   ]
  },
  {
   "cell_type": "markdown",
   "id": "69c9ab20",
   "metadata": {},
   "source": [
    "## Calling a Function"
   ]
  },
  {
   "cell_type": "code",
   "execution_count": 8,
   "id": "0e08bdd1",
   "metadata": {},
   "outputs": [
    {
     "name": "stdout",
     "output_type": "stream",
     "text": [
      "I'm first call to user defined function!\n",
      "Again second call to the same function\n"
     ]
    }
   ],
   "source": [
    "def printme( str ):\n",
    "    \"This prints a passed string into this function\"\n",
    "    print(str)\n",
    "    return;\n",
    "\n",
    "printme(\"I'm first call to user defined function!\")\n",
    "printme(\"Again second call to the same function\")"
   ]
  },
  {
   "cell_type": "markdown",
   "id": "605fe774",
   "metadata": {},
   "source": [
    "## Pass by reference vs value"
   ]
  },
  {
   "cell_type": "code",
   "execution_count": 13,
   "id": "c4185093",
   "metadata": {},
   "outputs": [
    {
     "name": "stdout",
     "output_type": "stream",
     "text": [
      "Values inside the function:  [10, 20, 30, [1, 2, 3, 4]]\n",
      "Values inside the function:  [10, 20, 30, [1, 2, 3, 4]]\n"
     ]
    }
   ],
   "source": [
    "def changeme( mylist ):\n",
    "    \"This changes a passed list into this function\"\n",
    "    mylist.append([1,2,3,4]);\n",
    "    print(\"Values inside the function: \", mylist)\n",
    "    return\n",
    "\n",
    "mylist = [10,20,30];\n",
    "changeme( mylist );\n",
    "print(\"Values inside the function: \", mylist)"
   ]
  },
  {
   "cell_type": "code",
   "execution_count": 12,
   "id": "c9772f89",
   "metadata": {},
   "outputs": [
    {
     "name": "stdout",
     "output_type": "stream",
     "text": [
      "Values inside the function:  [1, 2, 3, 4]\n",
      "Values inside the function:  [10, 20, 30]\n"
     ]
    }
   ],
   "source": [
    "def changeme( mylist ):\n",
    "    \"This changes a passed list into this function\"\n",
    "    mylist = [1,2,3,4];\n",
    "    print(\"Values inside the function: \", mylist)\n",
    "    return\n",
    "\n",
    "mylist = [10,20,30];\n",
    "changeme( mylist );\n",
    "print(\"Values inside the function: \", mylist)"
   ]
  },
  {
   "cell_type": "markdown",
   "id": "3ada99d3",
   "metadata": {},
   "source": [
    "## Function Arguments"
   ]
  },
  {
   "cell_type": "markdown",
   "id": "755ee299",
   "metadata": {},
   "source": [
    "### Required arguments"
   ]
  },
  {
   "cell_type": "code",
   "execution_count": 1,
   "id": "656af9f8",
   "metadata": {},
   "outputs": [
    {
     "name": "stdout",
     "output_type": "stream",
     "text": [
      "Hello\n"
     ]
    }
   ],
   "source": [
    "def printme( str ):\n",
    "    \"This prints a passed string into this function\"\n",
    "    print(str)\n",
    "    return;\n",
    "\n",
    "printme(\"Hello\")"
   ]
  },
  {
   "cell_type": "markdown",
   "id": "4a7e8c27",
   "metadata": {},
   "source": [
    "### Keyword arguments"
   ]
  },
  {
   "cell_type": "code",
   "execution_count": 16,
   "id": "04b09476",
   "metadata": {},
   "outputs": [
    {
     "name": "stdout",
     "output_type": "stream",
     "text": [
      "Hacktiv8\n"
     ]
    }
   ],
   "source": [
    "def printme( str ):\n",
    "    \"This prints a passed string into this function\"\n",
    "    print(str)\n",
    "    return;\n",
    "\n",
    "printme(str = \"Hacktiv8\")"
   ]
  },
  {
   "cell_type": "code",
   "execution_count": 20,
   "id": "393f8705",
   "metadata": {},
   "outputs": [
    {
     "name": "stdout",
     "output_type": "stream",
     "text": [
      "Name:  Sindi\n",
      "Age: 19\n"
     ]
    }
   ],
   "source": [
    "def printinfo( name, age):\n",
    "    \"This prints a passed string into this function\"\n",
    "    print(\"Name: \", name)\n",
    "    print(\"Age:\", age)\n",
    "    return;\n",
    "\n",
    "printinfo( age=19, name=\"Sindi\" )"
   ]
  },
  {
   "cell_type": "markdown",
   "id": "2557131a",
   "metadata": {},
   "source": [
    "### Defult arguments"
   ]
  },
  {
   "cell_type": "code",
   "execution_count": 22,
   "id": "ab2a1c63",
   "metadata": {},
   "outputs": [
    {
     "name": "stdout",
     "output_type": "stream",
     "text": [
      "Name:  Sindi\n",
      "Age: 11\n",
      "Name:  indi\n",
      "Age: 19\n"
     ]
    }
   ],
   "source": [
    "def printinfo( name, age = 19 ):\n",
    "    \"This prints a passed info into this function\"\n",
    "    print(\"Name: \", name)\n",
    "    print(\"Age:\", age)\n",
    "    return;\n",
    "\n",
    "printinfo( age=11, name=\"Sindi\" )\n",
    "printinfo( name=\"indi\")"
   ]
  },
  {
   "cell_type": "markdown",
   "id": "5412c04d",
   "metadata": {},
   "source": [
    "### Variable-length arguments"
   ]
  },
  {
   "cell_type": "code",
   "execution_count": 26,
   "id": "8c053fee",
   "metadata": {},
   "outputs": [
    {
     "name": "stdout",
     "output_type": "stream",
     "text": [
      "Output is: \n",
      "10\n",
      "Output is: \n",
      "70\n",
      "60\n",
      "50\n",
      "a\n"
     ]
    }
   ],
   "source": [
    "def printinfo( arg1, *vartuple ):\n",
    "    \"This prints a variable passed arguments\"\n",
    "    print(\"Output is: \")\n",
    "    print(arg1)\n",
    "    for var in vartuple:\n",
    "        print(var)\n",
    "    return;\n",
    "\n",
    "printinfo( 10 )\n",
    "printinfo( 70, 60,50, \"a\")"
   ]
  },
  {
   "cell_type": "markdown",
   "id": "9564592d",
   "metadata": {},
   "source": [
    "## The Anonymous Functions"
   ]
  },
  {
   "cell_type": "code",
   "execution_count": 39,
   "id": "b517b5de",
   "metadata": {},
   "outputs": [
    {
     "name": "stdout",
     "output_type": "stream",
     "text": [
      "Value of total :  30\n",
      "Value of total :  40\n"
     ]
    }
   ],
   "source": [
    "sum = lambda arg1, arg2: arg1 + arg2;\n",
    "\n",
    "def sum(arg1, arg2):\n",
    "    return arg1 + arg2\n",
    "    \n",
    "print(\"Value of total : \", sum( 10, 20 ))\n",
    "print(\"Value of total : \", sum( 20, 20 ))"
   ]
  },
  {
   "cell_type": "markdown",
   "id": "8025f75b",
   "metadata": {},
   "source": [
    "## The return Statement"
   ]
  },
  {
   "cell_type": "code",
   "execution_count": 31,
   "id": "c00ba4cf",
   "metadata": {},
   "outputs": [
    {
     "name": "stdout",
     "output_type": "stream",
     "text": [
      "Inside the function :  30\n",
      "Outside the function :  40\n"
     ]
    }
   ],
   "source": [
    "def sum(arg1, arg2):\n",
    "    total = arg1 + arg2\n",
    "    total2 = total + arg1\n",
    "    print(\"Inside the function : \", total)\n",
    "    return total2\n",
    "\n",
    "total = sum(10, 20)\n",
    "print(\"Outside the function : \", total)"
   ]
  },
  {
   "cell_type": "markdown",
   "id": "3030dd81",
   "metadata": {},
   "source": [
    "## Global vs. Local variables"
   ]
  },
  {
   "cell_type": "code",
   "execution_count": 41,
   "id": "60ae598d",
   "metadata": {},
   "outputs": [
    {
     "name": "stdout",
     "output_type": "stream",
     "text": [
      "Inside the function local total :  30\n",
      "Outside the function global total :  0\n"
     ]
    }
   ],
   "source": [
    "total = 0;\n",
    "\n",
    "def sum( arg1, arg2 ):\n",
    "    \n",
    "    total = arg1 + arg2;\n",
    "    print(\"Inside the function local total : \", total)\n",
    "    return total;\n",
    "\n",
    "\n",
    "sum( 10, 20 );\n",
    "print(\"Outside the function global total : \", total)"
   ]
  },
  {
   "cell_type": "code",
   "execution_count": 38,
   "id": "0446e41e",
   "metadata": {},
   "outputs": [
    {
     "data": {
      "text/plain": [
       "40"
      ]
     },
     "execution_count": 38,
     "metadata": {},
     "output_type": "execute_result"
    }
   ],
   "source": [
    "jumlahKucing =  20 \n",
    "\n",
    "def jumlahHewan():\n",
    "    jumlahAnjing = 30\n",
    "    return jumlahKucing + jumlahKucing\n",
    "\n",
    "def jumlahKelinci():\n",
    "    return jumlahKucing + jumlahKucing\n",
    "\n",
    "jumlahHewan()\n",
    "jumlahKelinci()"
   ]
  },
  {
   "cell_type": "markdown",
   "id": "0440a31b",
   "metadata": {},
   "source": [
    "# Python Modules: Overview"
   ]
  },
  {
   "cell_type": "code",
   "execution_count": 40,
   "id": "9f22af6f",
   "metadata": {},
   "outputs": [],
   "source": [
    "s = \"Hacktiv8-PTP Python For Data Science\"\n",
    "a = [100, 200, 300]\n",
    "\n",
    "def foo(arg):\n",
    "    print(f'arg = {arg}')\n",
    "    \n",
    "class Foo:\n",
    "    pass"
   ]
  },
  {
   "cell_type": "code",
   "execution_count": 2,
   "id": "b58a4237",
   "metadata": {},
   "outputs": [
    {
     "name": "stdout",
     "output_type": "stream",
     "text": [
      "Hacktiv8-PTP Python For Data Science\n",
      "arg = ['quux', 'corge', 'grault']\n"
     ]
    },
    {
     "data": {
      "text/plain": [
       "<mod.Foo at 0x2124ce3d910>"
      ]
     },
     "execution_count": 2,
     "metadata": {},
     "output_type": "execute_result"
    }
   ],
   "source": [
    ">>> import mod\n",
    ">>> print(mod.s)\n",
    ">>> mod.a\n",
    "[100, 200, 300]\n",
    ">>> mod.foo(['quux', 'corge', 'grault'])\n",
    "arg = ['quux', 'corge', 'grault']\n",
    ">>> x = mod.Foo()\n",
    ">>> x"
   ]
  },
  {
   "cell_type": "markdown",
   "id": "32b12907",
   "metadata": {},
   "source": [
    "## The Module Search Path"
   ]
  },
  {
   "cell_type": "code",
   "execution_count": 1,
   "id": "cb9ab600",
   "metadata": {},
   "outputs": [
    {
     "data": {
      "text/plain": [
       "['C:\\\\Users\\\\Acer\\\\Documents\\\\HACTIV8 DATA SCIENCE',\n",
       " 'C:\\\\Users\\\\Acer\\\\anaconda3\\\\python39.zip',\n",
       " 'C:\\\\Users\\\\Acer\\\\anaconda3\\\\DLLs',\n",
       " 'C:\\\\Users\\\\Acer\\\\anaconda3\\\\lib',\n",
       " 'C:\\\\Users\\\\Acer\\\\anaconda3',\n",
       " '',\n",
       " 'C:\\\\Users\\\\Acer\\\\anaconda3\\\\lib\\\\site-packages',\n",
       " 'C:\\\\Users\\\\Acer\\\\anaconda3\\\\lib\\\\site-packages\\\\win32',\n",
       " 'C:\\\\Users\\\\Acer\\\\anaconda3\\\\lib\\\\site-packages\\\\win32\\\\lib',\n",
       " 'C:\\\\Users\\\\Acer\\\\anaconda3\\\\lib\\\\site-packages\\\\Pythonwin']"
      ]
     },
     "execution_count": 1,
     "metadata": {},
     "output_type": "execute_result"
    }
   ],
   "source": [
    ">>> import sys\n",
    ">>> sys.path"
   ]
  },
  {
   "cell_type": "code",
   "execution_count": 8,
   "id": "14874472",
   "metadata": {},
   "outputs": [
    {
     "data": {
      "text/plain": [
       "['C:\\\\Users\\\\Acer\\\\Documents\\\\HACTIV8 DATA SCIENCE',\n",
       " 'C:\\\\Users\\\\Acer\\\\anaconda3\\\\python39.zip',\n",
       " 'C:\\\\Users\\\\Acer\\\\anaconda3\\\\DLLs',\n",
       " 'C:\\\\Users\\\\Acer\\\\anaconda3\\\\lib',\n",
       " 'C:\\\\Users\\\\Acer\\\\anaconda3',\n",
       " '',\n",
       " 'C:\\\\Users\\\\Acer\\\\anaconda3\\\\lib\\\\site-packages',\n",
       " 'C:\\\\Users\\\\Acer\\\\anaconda3\\\\lib\\\\site-packages\\\\win32',\n",
       " 'C:\\\\Users\\\\Acer\\\\anaconda3\\\\lib\\\\site-packages\\\\win32\\\\lib',\n",
       " 'C:\\\\Users\\\\Acer\\\\anaconda3\\\\lib\\\\site-packages\\\\Pythonwin',\n",
       " 'Users\\\\kmkem\\\\Documents\\\\Jupyter For Data Science',\n",
       " 'Users\\\\Acer\\\\Documents\\\\HACTIV8 DATA SCINCE']"
      ]
     },
     "execution_count": 8,
     "metadata": {},
     "output_type": "execute_result"
    }
   ],
   "source": [
    ">>> sys.path.append(r'Users\\Acer\\Documents\\HACTIV8 DATA SCINCE')\n",
    ">>> sys.path"
   ]
  },
  {
   "cell_type": "code",
   "execution_count": 5,
   "id": "fea0d4b0",
   "metadata": {},
   "outputs": [
    {
     "data": {
      "text/plain": [
       "'C:\\\\Users\\\\Acer\\\\anaconda3\\\\lib\\\\re.py'"
      ]
     },
     "execution_count": 5,
     "metadata": {},
     "output_type": "execute_result"
    }
   ],
   "source": [
    ">>> import mod\n",
    ">>> mod.__file__\n",
    "\n",
    "\n",
    ">>> import re\n",
    ">>> re.__file__"
   ]
  },
  {
   "cell_type": "markdown",
   "id": "0576c2d7",
   "metadata": {},
   "source": [
    "## The import Statement"
   ]
  },
  {
   "cell_type": "code",
   "execution_count": 6,
   "id": "bf65b35e",
   "metadata": {},
   "outputs": [
    {
     "data": {
      "text/plain": [
       "<module 'mod' from 'C:\\\\Users\\\\Acer\\\\Documents\\\\HACTIV8 DATA SCIENCE\\\\mod.py'>"
      ]
     },
     "execution_count": 6,
     "metadata": {},
     "output_type": "execute_result"
    }
   ],
   "source": [
    ">>> import mod\n",
    ">>> mod"
   ]
  },
  {
   "cell_type": "code",
   "execution_count": 9,
   "id": "ce887d1b",
   "metadata": {},
   "outputs": [
    {
     "ename": "NameError",
     "evalue": "name 's' is not defined",
     "output_type": "error",
     "traceback": [
      "\u001b[1;31m---------------------------------------------------------------------------\u001b[0m",
      "\u001b[1;31mNameError\u001b[0m                                 Traceback (most recent call last)",
      "Input \u001b[1;32mIn [9]\u001b[0m, in \u001b[0;36m<cell line: 1>\u001b[1;34m()\u001b[0m\n\u001b[1;32m----> 1\u001b[0m \u001b[43ms\u001b[49m\n\u001b[0;32m      2\u001b[0m foo(\u001b[38;5;124m'\u001b[39m\u001b[38;5;124mquux\u001b[39m\u001b[38;5;124m'\u001b[39m)\n",
      "\u001b[1;31mNameError\u001b[0m: name 's' is not defined"
     ]
    }
   ],
   "source": [
    ">>> s\n",
    ">>> foo('quux')"
   ]
  },
  {
   "cell_type": "code",
   "execution_count": 11,
   "id": "07db1d88",
   "metadata": {},
   "outputs": [
    {
     "name": "stdout",
     "output_type": "stream",
     "text": [
      "arg = quux\n"
     ]
    }
   ],
   "source": [
    ">>> mod.s\n",
    "\n",
    ">>> mod.foo('quux')\n"
   ]
  },
  {
   "cell_type": "markdown",
   "id": "7a4524ca",
   "metadata": {},
   "source": [
    "beberapa modul yang dipisahkan koma dapat dipanggil dalam single import statement:"
   ]
  },
  {
   "cell_type": "markdown",
   "id": "cca8c19b",
   "metadata": {},
   "source": [
    "## from <module_name>  import <name(s)>"
   ]
  },
  {
   "cell_type": "code",
   "execution_count": 17,
   "id": "d971760f",
   "metadata": {},
   "outputs": [
    {
     "name": "stdout",
     "output_type": "stream",
     "text": [
      "arg = quux\n"
     ]
    },
    {
     "data": {
      "text/plain": [
       "<mod.Foo at 0x2124e15b250>"
      ]
     },
     "execution_count": 17,
     "metadata": {},
     "output_type": "execute_result"
    }
   ],
   "source": [
    ">>> from mod import s, Foo\n",
    ">>> s\n",
    "'Hacktiv8-PTP Python For Data Science'\n",
    ">>> foo('quux')\n",
    "\n",
    ">>> from mod import foo\n",
    ">>> x = Foo()\n",
    ">>> x"
   ]
  },
  {
   "cell_type": "code",
   "execution_count": 18,
   "id": "5a83bb94",
   "metadata": {},
   "outputs": [
    {
     "data": {
      "text/plain": [
       "[100, 200, 300]"
      ]
     },
     "execution_count": 18,
     "metadata": {},
     "output_type": "execute_result"
    }
   ],
   "source": [
    ">>> a = ['foo', 'bar', 'baz']\n",
    ">>> a\n",
    "['foo', 'bar', 'baz']\n",
    "\n",
    ">>> from mod import a\n",
    ">>> a\n",
    "[100, 200, 300]"
   ]
  },
  {
   "cell_type": "code",
   "execution_count": 27,
   "id": "f95790a5",
   "metadata": {},
   "outputs": [
    {
     "data": {
      "text/plain": [
       "<function mod.foo(arg)>"
      ]
     },
     "execution_count": 27,
     "metadata": {},
     "output_type": "execute_result"
    }
   ],
   "source": [
    ">>> from mod import *\n",
    ">>> s\n",
    "'Hacktiv8-PTP Python For Data Science'\n",
    ">>> a\n",
    ">>> foo\n",
    ">>> foo"
   ]
  },
  {
   "cell_type": "markdown",
   "id": "2151afb6",
   "metadata": {},
   "source": [
    "## from <module_name> import <name> as <alt_name>"
   ]
  },
  {
   "cell_type": "code",
   "execution_count": 24,
   "id": "82231554",
   "metadata": {},
   "outputs": [
    {
     "data": {
      "text/plain": [
       "['foo', 'bar', 'baz']"
      ]
     },
     "execution_count": 24,
     "metadata": {},
     "output_type": "execute_result"
    }
   ],
   "source": [
    ">>> s = 'foo'\n",
    ">>> a = ['foo', 'bar', 'baz']\n",
    "\n",
    ">>> from mod import s as string, a as list\n",
    ">>> s\n",
    ">>> string\n",
    ">>> a"
   ]
  },
  {
   "cell_type": "markdown",
   "id": "b1b64553",
   "metadata": {},
   "source": [
    "### import <module_name> as <alt_name>"
   ]
  },
  {
   "cell_type": "code",
   "execution_count": 25,
   "id": "eb3d2692",
   "metadata": {},
   "outputs": [
    {
     "data": {
      "text/plain": [
       "[100, 200, 300]"
      ]
     },
     "execution_count": 25,
     "metadata": {},
     "output_type": "execute_result"
    }
   ],
   "source": [
    ">>> import mod as my_module\n",
    ">>> my_module.a"
   ]
  },
  {
   "cell_type": "code",
   "execution_count": 26,
   "id": "6e47bd69",
   "metadata": {},
   "outputs": [
    {
     "name": "stdout",
     "output_type": "stream",
     "text": [
      "arg = qux\n"
     ]
    }
   ],
   "source": [
    "my_module.foo('qux')"
   ]
  },
  {
   "cell_type": "markdown",
   "id": "995e34a3",
   "metadata": {},
   "source": [
    "### The dir()"
   ]
  },
  {
   "cell_type": "code",
   "execution_count": 28,
   "id": "41767c33",
   "metadata": {},
   "outputs": [
    {
     "data": {
      "text/plain": [
       "['Foo',\n",
       " 'In',\n",
       " 'Out',\n",
       " '_',\n",
       " '_1',\n",
       " '_17',\n",
       " '_18',\n",
       " '_2',\n",
       " '_20',\n",
       " '_21',\n",
       " '_22',\n",
       " '_24',\n",
       " '_25',\n",
       " '_27',\n",
       " '_3',\n",
       " '_4',\n",
       " '_5',\n",
       " '_8',\n",
       " '__',\n",
       " '___',\n",
       " '__builtin__',\n",
       " '__builtins__',\n",
       " '__doc__',\n",
       " '__loader__',\n",
       " '__name__',\n",
       " '__package__',\n",
       " '__spec__',\n",
       " '_dh',\n",
       " '_i',\n",
       " '_i1',\n",
       " '_i10',\n",
       " '_i11',\n",
       " '_i12',\n",
       " '_i13',\n",
       " '_i14',\n",
       " '_i15',\n",
       " '_i16',\n",
       " '_i17',\n",
       " '_i18',\n",
       " '_i19',\n",
       " '_i2',\n",
       " '_i20',\n",
       " '_i21',\n",
       " '_i22',\n",
       " '_i23',\n",
       " '_i24',\n",
       " '_i25',\n",
       " '_i26',\n",
       " '_i27',\n",
       " '_i28',\n",
       " '_i3',\n",
       " '_i4',\n",
       " '_i5',\n",
       " '_i6',\n",
       " '_i7',\n",
       " '_i8',\n",
       " '_i9',\n",
       " '_ih',\n",
       " '_ii',\n",
       " '_iii',\n",
       " '_oh',\n",
       " 'a',\n",
       " 'arg',\n",
       " 'exit',\n",
       " 'foo',\n",
       " 'get_ipython',\n",
       " 'list',\n",
       " 'mod',\n",
       " 'my_module',\n",
       " 'quit',\n",
       " 're',\n",
       " 's',\n",
       " 'string',\n",
       " 'sys',\n",
       " 'x']"
      ]
     },
     "execution_count": 28,
     "metadata": {},
     "output_type": "execute_result"
    }
   ],
   "source": [
    ">>> dir()"
   ]
  },
  {
   "cell_type": "code",
   "execution_count": 29,
   "id": "4da546c5",
   "metadata": {},
   "outputs": [
    {
     "data": {
      "text/plain": [
       "['Foo',\n",
       " 'In',\n",
       " 'Out',\n",
       " '_',\n",
       " '_1',\n",
       " '_17',\n",
       " '_18',\n",
       " '_2',\n",
       " '_20',\n",
       " '_21',\n",
       " '_22',\n",
       " '_24',\n",
       " '_25',\n",
       " '_27',\n",
       " '_28',\n",
       " '_3',\n",
       " '_4',\n",
       " '_5',\n",
       " '_8',\n",
       " '__',\n",
       " '___',\n",
       " '__builtin__',\n",
       " '__builtins__',\n",
       " '__doc__',\n",
       " '__loader__',\n",
       " '__name__',\n",
       " '__package__',\n",
       " '__spec__',\n",
       " '_dh',\n",
       " '_i',\n",
       " '_i1',\n",
       " '_i10',\n",
       " '_i11',\n",
       " '_i12',\n",
       " '_i13',\n",
       " '_i14',\n",
       " '_i15',\n",
       " '_i16',\n",
       " '_i17',\n",
       " '_i18',\n",
       " '_i19',\n",
       " '_i2',\n",
       " '_i20',\n",
       " '_i21',\n",
       " '_i22',\n",
       " '_i23',\n",
       " '_i24',\n",
       " '_i25',\n",
       " '_i26',\n",
       " '_i27',\n",
       " '_i28',\n",
       " '_i29',\n",
       " '_i3',\n",
       " '_i4',\n",
       " '_i5',\n",
       " '_i6',\n",
       " '_i7',\n",
       " '_i8',\n",
       " '_i9',\n",
       " '_ih',\n",
       " '_ii',\n",
       " '_iii',\n",
       " '_oh',\n",
       " 'a',\n",
       " 'arg',\n",
       " 'exit',\n",
       " 'foo',\n",
       " 'get_ipython',\n",
       " 'list',\n",
       " 'mod',\n",
       " 'my_module',\n",
       " 'quit',\n",
       " 'qux',\n",
       " 're',\n",
       " 's',\n",
       " 'string',\n",
       " 'sys',\n",
       " 'x']"
      ]
     },
     "execution_count": 29,
     "metadata": {},
     "output_type": "execute_result"
    }
   ],
   "source": [
    ">>> qux = [1, 2, 3, 4, 5]\n",
    ">>> dir()"
   ]
  },
  {
   "cell_type": "code",
   "execution_count": 32,
   "id": "164dcbb3",
   "metadata": {},
   "outputs": [
    {
     "data": {
      "text/plain": [
       "['Foo',\n",
       " '__builtins__',\n",
       " '__cached__',\n",
       " '__doc__',\n",
       " '__file__',\n",
       " '__loader__',\n",
       " '__name__',\n",
       " '__package__',\n",
       " '__spec__',\n",
       " 'a',\n",
       " 'foo',\n",
       " 's']"
      ]
     },
     "execution_count": 32,
     "metadata": {},
     "output_type": "execute_result"
    }
   ],
   "source": [
    ">>> import mod\n",
    ">>> dir(mod)"
   ]
  },
  {
   "cell_type": "code",
   "execution_count": 33,
   "id": "476da723",
   "metadata": {},
   "outputs": [
    {
     "data": {
      "text/plain": [
       "['Foo',\n",
       " 'In',\n",
       " 'Out',\n",
       " '_',\n",
       " '_1',\n",
       " '_17',\n",
       " '_18',\n",
       " '_2',\n",
       " '_20',\n",
       " '_21',\n",
       " '_22',\n",
       " '_24',\n",
       " '_25',\n",
       " '_27',\n",
       " '_28',\n",
       " '_29',\n",
       " '_3',\n",
       " '_32',\n",
       " '_4',\n",
       " '_5',\n",
       " '_8',\n",
       " '__',\n",
       " '___',\n",
       " '__builtin__',\n",
       " '__builtins__',\n",
       " '__doc__',\n",
       " '__loader__',\n",
       " '__name__',\n",
       " '__package__',\n",
       " '__spec__',\n",
       " '_dh',\n",
       " '_i',\n",
       " '_i1',\n",
       " '_i10',\n",
       " '_i11',\n",
       " '_i12',\n",
       " '_i13',\n",
       " '_i14',\n",
       " '_i15',\n",
       " '_i16',\n",
       " '_i17',\n",
       " '_i18',\n",
       " '_i19',\n",
       " '_i2',\n",
       " '_i20',\n",
       " '_i21',\n",
       " '_i22',\n",
       " '_i23',\n",
       " '_i24',\n",
       " '_i25',\n",
       " '_i26',\n",
       " '_i27',\n",
       " '_i28',\n",
       " '_i29',\n",
       " '_i3',\n",
       " '_i30',\n",
       " '_i31',\n",
       " '_i32',\n",
       " '_i33',\n",
       " '_i4',\n",
       " '_i5',\n",
       " '_i6',\n",
       " '_i7',\n",
       " '_i8',\n",
       " '_i9',\n",
       " '_ih',\n",
       " '_ii',\n",
       " '_iii',\n",
       " '_oh',\n",
       " 'a',\n",
       " 'arg',\n",
       " 'exit',\n",
       " 'foo',\n",
       " 'get_ipython',\n",
       " 'list',\n",
       " 'mod',\n",
       " 'my_module',\n",
       " 'quit',\n",
       " 'qux',\n",
       " 're',\n",
       " 's',\n",
       " 'string',\n",
       " 'sys',\n",
       " 'x']"
      ]
     },
     "execution_count": 33,
     "metadata": {},
     "output_type": "execute_result"
    }
   ],
   "source": [
    ">>> dir()"
   ]
  },
  {
   "cell_type": "code",
   "execution_count": 34,
   "id": "e244d9e6",
   "metadata": {},
   "outputs": [
    {
     "data": {
      "text/plain": [
       "['Foo',\n",
       " 'In',\n",
       " 'Out',\n",
       " '_',\n",
       " '_1',\n",
       " '_17',\n",
       " '_18',\n",
       " '_2',\n",
       " '_20',\n",
       " '_21',\n",
       " '_22',\n",
       " '_24',\n",
       " '_25',\n",
       " '_27',\n",
       " '_28',\n",
       " '_29',\n",
       " '_3',\n",
       " '_32',\n",
       " '_33',\n",
       " '_4',\n",
       " '_5',\n",
       " '_8',\n",
       " '__',\n",
       " '___',\n",
       " '__builtin__',\n",
       " '__builtins__',\n",
       " '__doc__',\n",
       " '__loader__',\n",
       " '__name__',\n",
       " '__package__',\n",
       " '__spec__',\n",
       " '_dh',\n",
       " '_i',\n",
       " '_i1',\n",
       " '_i10',\n",
       " '_i11',\n",
       " '_i12',\n",
       " '_i13',\n",
       " '_i14',\n",
       " '_i15',\n",
       " '_i16',\n",
       " '_i17',\n",
       " '_i18',\n",
       " '_i19',\n",
       " '_i2',\n",
       " '_i20',\n",
       " '_i21',\n",
       " '_i22',\n",
       " '_i23',\n",
       " '_i24',\n",
       " '_i25',\n",
       " '_i26',\n",
       " '_i27',\n",
       " '_i28',\n",
       " '_i29',\n",
       " '_i3',\n",
       " '_i30',\n",
       " '_i31',\n",
       " '_i32',\n",
       " '_i33',\n",
       " '_i34',\n",
       " '_i4',\n",
       " '_i5',\n",
       " '_i6',\n",
       " '_i7',\n",
       " '_i8',\n",
       " '_i9',\n",
       " '_ih',\n",
       " '_ii',\n",
       " '_iii',\n",
       " '_oh',\n",
       " 'a',\n",
       " 'arg',\n",
       " 'exit',\n",
       " 'foo',\n",
       " 'get_ipython',\n",
       " 'list',\n",
       " 'mod',\n",
       " 'my_module',\n",
       " 'quit',\n",
       " 'qux',\n",
       " 're',\n",
       " 's',\n",
       " 'string',\n",
       " 'sys',\n",
       " 'x']"
      ]
     },
     "execution_count": 34,
     "metadata": {},
     "output_type": "execute_result"
    }
   ],
   "source": [
    ">>> from mod import *\n",
    ">>> dir()"
   ]
  },
  {
   "cell_type": "markdown",
   "id": "8f2a8e38",
   "metadata": {},
   "source": [
    "### Executing a Module as Script"
   ]
  },
  {
   "cell_type": "markdown",
   "id": "a31f736e",
   "metadata": {},
   "source": [
    "##### Tambahkan menambahkan beberapa baris perintah pada file mod.py"
   ]
  },
  {
   "cell_type": "code",
   "execution_count": 36,
   "id": "de7639a5",
   "metadata": {},
   "outputs": [
    {
     "name": "stdout",
     "output_type": "stream",
     "text": [
      "arg = grault\n"
     ]
    }
   ],
   "source": [
    ">>> import mod\n",
    ">>> mod.foo('grault')"
   ]
  },
  {
   "cell_type": "markdown",
   "id": "d6c4015e",
   "metadata": {},
   "source": [
    "##### fact.py = merupakan file yang telah di buat dengan format py atau python"
   ]
  },
  {
   "cell_type": "code",
   "execution_count": 37,
   "id": "08c0ea5a",
   "metadata": {},
   "outputs": [
    {
     "data": {
      "text/plain": [
       "720"
      ]
     },
     "execution_count": 37,
     "metadata": {},
     "output_type": "execute_result"
    }
   ],
   "source": [
    ">>> from fact import fact\n",
    ">>> fact(6)"
   ]
  },
  {
   "cell_type": "markdown",
   "id": "14189a85",
   "metadata": {},
   "source": [
    "### Reloading a Module"
   ]
  },
  {
   "cell_type": "code",
   "execution_count": 38,
   "id": "b8209825",
   "metadata": {},
   "outputs": [],
   "source": [
    ">>> import mod"
   ]
  },
  {
   "cell_type": "code",
   "execution_count": 39,
   "id": "987f98ed",
   "metadata": {},
   "outputs": [
    {
     "data": {
      "text/plain": [
       "[100, 200, 300]"
      ]
     },
     "execution_count": 39,
     "metadata": {},
     "output_type": "execute_result"
    }
   ],
   "source": [
    ">>> mod.a"
   ]
  },
  {
   "cell_type": "code",
   "execution_count": 40,
   "id": "07f71052",
   "metadata": {},
   "outputs": [
    {
     "name": "stdout",
     "output_type": "stream",
     "text": [
      "Hacktiv8-PTP Python For Data Science\n",
      "[100, 200, 300]\n",
      "arg = quux\n",
      "<mod.Foo object at 0x000002124E0DE3A0>\n"
     ]
    },
    {
     "data": {
      "text/plain": [
       "<module 'mod' from 'C:\\\\Users\\\\kmkem\\\\Documents\\\\Jupyter For Data Science\\\\mod.py'>"
      ]
     },
     "execution_count": 40,
     "metadata": {},
     "output_type": "execute_result"
    }
   ],
   "source": [
    ">>> import importlib\n",
    ">>> importlib.reload(mod)"
   ]
  },
  {
   "cell_type": "markdown",
   "id": "65bab8fb",
   "metadata": {},
   "source": [
    "### Pythone Packages"
   ]
  },
  {
   "cell_type": "code",
   "execution_count": 44,
   "id": "734c5dcf",
   "metadata": {},
   "outputs": [
    {
     "name": "stdout",
     "output_type": "stream",
     "text": [
      "[mod1] foo()\n"
     ]
    }
   ],
   "source": [
    ">>> import mod1\n",
    ">>> import mod2\n",
    ">>> mod1.foo()"
   ]
  },
  {
   "cell_type": "code",
   "execution_count": null,
   "id": "92b1b256",
   "metadata": {},
   "outputs": [],
   "source": []
  }
 ],
 "metadata": {
  "kernelspec": {
   "display_name": "Python 3 (ipykernel)",
   "language": "python",
   "name": "python3"
  },
  "language_info": {
   "codemirror_mode": {
    "name": "ipython",
    "version": 3
   },
   "file_extension": ".py",
   "mimetype": "text/x-python",
   "name": "python",
   "nbconvert_exporter": "python",
   "pygments_lexer": "ipython3",
   "version": "3.9.12"
  }
 },
 "nbformat": 4,
 "nbformat_minor": 5
}
