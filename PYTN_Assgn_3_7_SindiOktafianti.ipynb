{
 "cells": [
  {
   "cell_type": "markdown",
   "id": "7ff8a17c",
   "metadata": {},
   "source": [
    "---\n",
    "# ASSIGNMENT 3\n",
    "---"
   ]
  },
  {
   "cell_type": "markdown",
   "id": "cfc2adc8",
   "metadata": {},
   "source": [
    "##### Project Overview\n",
    "---"
   ]
  },
  {
   "cell_type": "markdown",
   "id": "d1702a95",
   "metadata": {},
   "source": [
    "The data is related with direct marketing campaigns of a Portuguese banking institution. The marketing campaigns were based on phone calls. Often, more than one contact to the same client was required, in order to access if the product (bank term deposit) would be ('yes') or not ('no') subscrised.\n",
    "\n",
    "\n",
    "There are four datasets:\n",
    " 1. bank-addtional-full.csv with all examples (41188) and 20 inputs, ordered by date (from May 2008 to November 2010), very close to the data analyzed in [Moro et al., 2014]\n",
    " 2. bank-addtional.csv with 10% of the examples (4119), randomly selected from 1), and 20 inputs.\n",
    " 3. bank-full.csv with all examples and 17 inputs, ordered by date (older version of this dataset with less inputs).\n",
    " 4. bank.csv with 10% of the examples and 17 inputs, randomly selected from 3 (older version of this dataset with less inputs).\n",
    "\n",
    "The smallest datasets are provided to test more computationally demanding machine learning algorithms (e.g., SVM).\n",
    "\n",
    "The classification goal is to predict if the client will subscribe (yes/no) a term deposit (variable y)."
   ]
  },
  {
   "cell_type": "markdown",
   "id": "de8a8d41",
   "metadata": {},
   "source": [
    "##### This dataset contains:\n",
    "---"
   ]
  },
  {
   "cell_type": "markdown",
   "id": "e066ac33",
   "metadata": {},
   "source": [
    "Input variables:\n",
    "\n",
    "*bank client data:*\n",
    "1. -age (numeric)\n",
    "2. -job : type of job (categorical: 'admin','bluecollar','entrepreneur','housemaid','management','retired', 'selfemployed','service','student','technician','unemployed','unknown')\n",
    "3. -marital : marital status (categorical: 'disvorced', 'married', 'single', 'unknown';note:'divorced'means divorced or widowed)\n",
    "4. -education (categorical: 'basic.4y','basic.6y','basic.9y','high.school','illiterate','professional.course','university.degree','unknown')\n",
    "5. -default: has credit in default? (categorical: 'no','yes','unknown')\n",
    "6. -housing: has housing loan? (categorical: 'no','yes','unknown')\n",
    "7. -loan: has personal loan? (categorical: 'no','yes','unknown')\n",
    "\n",
    "*related with the last contact of the current campaign:*\n",
    "\n",
    "8. -contact: contact communication type (categorical: 'cellular','telephone')\n",
    "9. -month: last contact month of year (categorical: 'jan', 'feb', 'mar', ..., 'nov', 'dec')\n",
    "10. -day_of_week: last contact day of the week (categorical: 'mon','tue','wed','thu','fri')\n",
    "11. -duration: last contact duration, in seconds (numeric). Important note: this attribute highly affects the output target (e.g., if duration=0 then y='no'). Yet, the duration is not known before a call is performed. Also, after the end of the call y is obviously known. Thus, this input should only be included for benchmark purposes and should be discarded if the intention is to have a realistic predictive model.\n",
    "\n",
    "*other attributes:*\n",
    "\n",
    "12. -campaign: number of contacts performed during this campaign and for this client (numeric, includes last contact)\n",
    "13. -pdays: number of days that passed by after the client was last contacted from a previous campaign (numeric; 999 means client was not previously contacted)\n",
    "14. -previous: number of contacts performed before this campaign and for this client (numeric)\n",
    "15. -poutcome: outcome of the previous marketing campaign (categorical: 'failure','nonexistent','success')\n",
    "\n",
    "*social and economic context attributes*\n",
    "\n",
    "16. -emp.var.rate: employment variation rate - quarterly indicator (numeric)\n",
    "17. -cons.price.idx: consumer price index - monthly indicator (numeric)\n",
    "18. -cons.conf.idx: consumer confidence index - monthly indicator (numeric)\n",
    "19. -euribor3m: euribor 3 month rate - daily indicator (numeric)\n",
    "20. -nr.employed: number of employees - quarterly indicator (numeric)\n",
    "\n",
    "*Output variable (desired target):*\n",
    "\n",
    "21. -y - has the client subscribed a term deposit? (binary: 'yes','no')"
   ]
  },
  {
   "cell_type": "markdown",
   "id": "62e58fc9",
   "metadata": {},
   "source": [
    "---\n",
    "# Library\n",
    "---"
   ]
  },
  {
   "cell_type": "code",
   "execution_count": 1,
   "id": "00212ef0",
   "metadata": {},
   "outputs": [],
   "source": [
    "# import library yang dibutuhkan\n",
    "import pandas as pd\n",
    "import numpy as np\n",
    "import matplotlib.pyplot as plt\n",
    "import seaborn as sns\n",
    "from sklearn.preprocessing import StandardScaler\n",
    "from sklearn.model_selection import train_test_split\n",
    "from sklearn.ensemble import RandomForestClassifier\n",
    "from sklearn.linear_model import LogisticRegression\n",
    "from sklearn.neighbors import KNeighborsClassifier\n",
    "from sklearn.svm import SVC\n",
    "from sklearn.tree import DecisionTreeClassifier\n",
    "from sklearn.naive_bayes import GaussianNB\n",
    "from sklearn.metrics import f1_score\n",
    "from sklearn.metrics import average_precision_score\n",
    "from sklearn.metrics import accuracy_score\n",
    "from sklearn import metrics\n",
    "from sklearn.svm import LinearSVC\n",
    "from sklearn.metrics import confusion_matrix, classification_report, precision_score, recall_score"
   ]
  },
  {
   "cell_type": "markdown",
   "id": "0eaebe72",
   "metadata": {},
   "source": [
    "---\n",
    "# Preprocessing\n",
    "---"
   ]
  },
  {
   "cell_type": "code",
   "execution_count": 2,
   "id": "40df32e9",
   "metadata": {},
   "outputs": [],
   "source": [
    "df_bank_full = pd.read_csv(\"bank-full.csv\",sep= ';')"
   ]
  },
  {
   "cell_type": "code",
   "execution_count": 3,
   "id": "35e54d72",
   "metadata": {},
   "outputs": [
    {
     "data": {
      "text/html": [
       "<div>\n",
       "<style scoped>\n",
       "    .dataframe tbody tr th:only-of-type {\n",
       "        vertical-align: middle;\n",
       "    }\n",
       "\n",
       "    .dataframe tbody tr th {\n",
       "        vertical-align: top;\n",
       "    }\n",
       "\n",
       "    .dataframe thead th {\n",
       "        text-align: right;\n",
       "    }\n",
       "</style>\n",
       "<table border=\"1\" class=\"dataframe\">\n",
       "  <thead>\n",
       "    <tr style=\"text-align: right;\">\n",
       "      <th></th>\n",
       "      <th>age</th>\n",
       "      <th>job</th>\n",
       "      <th>marital</th>\n",
       "      <th>education</th>\n",
       "      <th>default</th>\n",
       "      <th>balance</th>\n",
       "      <th>housing</th>\n",
       "      <th>loan</th>\n",
       "      <th>contact</th>\n",
       "      <th>day</th>\n",
       "      <th>month</th>\n",
       "      <th>duration</th>\n",
       "      <th>campaign</th>\n",
       "      <th>pdays</th>\n",
       "      <th>previous</th>\n",
       "      <th>poutcome</th>\n",
       "      <th>y</th>\n",
       "    </tr>\n",
       "  </thead>\n",
       "  <tbody>\n",
       "    <tr>\n",
       "      <th>0</th>\n",
       "      <td>58</td>\n",
       "      <td>management</td>\n",
       "      <td>married</td>\n",
       "      <td>tertiary</td>\n",
       "      <td>no</td>\n",
       "      <td>2143</td>\n",
       "      <td>yes</td>\n",
       "      <td>no</td>\n",
       "      <td>unknown</td>\n",
       "      <td>5</td>\n",
       "      <td>may</td>\n",
       "      <td>261</td>\n",
       "      <td>1</td>\n",
       "      <td>-1</td>\n",
       "      <td>0</td>\n",
       "      <td>unknown</td>\n",
       "      <td>no</td>\n",
       "    </tr>\n",
       "    <tr>\n",
       "      <th>1</th>\n",
       "      <td>44</td>\n",
       "      <td>technician</td>\n",
       "      <td>single</td>\n",
       "      <td>secondary</td>\n",
       "      <td>no</td>\n",
       "      <td>29</td>\n",
       "      <td>yes</td>\n",
       "      <td>no</td>\n",
       "      <td>unknown</td>\n",
       "      <td>5</td>\n",
       "      <td>may</td>\n",
       "      <td>151</td>\n",
       "      <td>1</td>\n",
       "      <td>-1</td>\n",
       "      <td>0</td>\n",
       "      <td>unknown</td>\n",
       "      <td>no</td>\n",
       "    </tr>\n",
       "    <tr>\n",
       "      <th>2</th>\n",
       "      <td>33</td>\n",
       "      <td>entrepreneur</td>\n",
       "      <td>married</td>\n",
       "      <td>secondary</td>\n",
       "      <td>no</td>\n",
       "      <td>2</td>\n",
       "      <td>yes</td>\n",
       "      <td>yes</td>\n",
       "      <td>unknown</td>\n",
       "      <td>5</td>\n",
       "      <td>may</td>\n",
       "      <td>76</td>\n",
       "      <td>1</td>\n",
       "      <td>-1</td>\n",
       "      <td>0</td>\n",
       "      <td>unknown</td>\n",
       "      <td>no</td>\n",
       "    </tr>\n",
       "    <tr>\n",
       "      <th>3</th>\n",
       "      <td>47</td>\n",
       "      <td>blue-collar</td>\n",
       "      <td>married</td>\n",
       "      <td>unknown</td>\n",
       "      <td>no</td>\n",
       "      <td>1506</td>\n",
       "      <td>yes</td>\n",
       "      <td>no</td>\n",
       "      <td>unknown</td>\n",
       "      <td>5</td>\n",
       "      <td>may</td>\n",
       "      <td>92</td>\n",
       "      <td>1</td>\n",
       "      <td>-1</td>\n",
       "      <td>0</td>\n",
       "      <td>unknown</td>\n",
       "      <td>no</td>\n",
       "    </tr>\n",
       "    <tr>\n",
       "      <th>4</th>\n",
       "      <td>33</td>\n",
       "      <td>unknown</td>\n",
       "      <td>single</td>\n",
       "      <td>unknown</td>\n",
       "      <td>no</td>\n",
       "      <td>1</td>\n",
       "      <td>no</td>\n",
       "      <td>no</td>\n",
       "      <td>unknown</td>\n",
       "      <td>5</td>\n",
       "      <td>may</td>\n",
       "      <td>198</td>\n",
       "      <td>1</td>\n",
       "      <td>-1</td>\n",
       "      <td>0</td>\n",
       "      <td>unknown</td>\n",
       "      <td>no</td>\n",
       "    </tr>\n",
       "  </tbody>\n",
       "</table>\n",
       "</div>"
      ],
      "text/plain": [
       "   age           job  marital  education default  balance housing loan  \\\n",
       "0   58    management  married   tertiary      no     2143     yes   no   \n",
       "1   44    technician   single  secondary      no       29     yes   no   \n",
       "2   33  entrepreneur  married  secondary      no        2     yes  yes   \n",
       "3   47   blue-collar  married    unknown      no     1506     yes   no   \n",
       "4   33       unknown   single    unknown      no        1      no   no   \n",
       "\n",
       "   contact  day month  duration  campaign  pdays  previous poutcome   y  \n",
       "0  unknown    5   may       261         1     -1         0  unknown  no  \n",
       "1  unknown    5   may       151         1     -1         0  unknown  no  \n",
       "2  unknown    5   may        76         1     -1         0  unknown  no  \n",
       "3  unknown    5   may        92         1     -1         0  unknown  no  \n",
       "4  unknown    5   may       198         1     -1         0  unknown  no  "
      ]
     },
     "execution_count": 3,
     "metadata": {},
     "output_type": "execute_result"
    }
   ],
   "source": [
    "df_bank_full.head()"
   ]
  },
  {
   "cell_type": "code",
   "execution_count": 4,
   "id": "90750c64",
   "metadata": {},
   "outputs": [
    {
     "data": {
      "text/html": [
       "<div>\n",
       "<style scoped>\n",
       "    .dataframe tbody tr th:only-of-type {\n",
       "        vertical-align: middle;\n",
       "    }\n",
       "\n",
       "    .dataframe tbody tr th {\n",
       "        vertical-align: top;\n",
       "    }\n",
       "\n",
       "    .dataframe thead th {\n",
       "        text-align: right;\n",
       "    }\n",
       "</style>\n",
       "<table border=\"1\" class=\"dataframe\">\n",
       "  <thead>\n",
       "    <tr style=\"text-align: right;\">\n",
       "      <th></th>\n",
       "      <th>age</th>\n",
       "      <th>job</th>\n",
       "      <th>marital</th>\n",
       "      <th>education</th>\n",
       "      <th>default</th>\n",
       "      <th>balance</th>\n",
       "      <th>housing</th>\n",
       "      <th>loan</th>\n",
       "      <th>contact</th>\n",
       "      <th>day</th>\n",
       "      <th>month</th>\n",
       "      <th>duration</th>\n",
       "      <th>campaign</th>\n",
       "      <th>pdays</th>\n",
       "      <th>previous</th>\n",
       "      <th>poutcome</th>\n",
       "      <th>y</th>\n",
       "    </tr>\n",
       "  </thead>\n",
       "  <tbody>\n",
       "    <tr>\n",
       "      <th>45206</th>\n",
       "      <td>51</td>\n",
       "      <td>technician</td>\n",
       "      <td>married</td>\n",
       "      <td>tertiary</td>\n",
       "      <td>no</td>\n",
       "      <td>825</td>\n",
       "      <td>no</td>\n",
       "      <td>no</td>\n",
       "      <td>cellular</td>\n",
       "      <td>17</td>\n",
       "      <td>nov</td>\n",
       "      <td>977</td>\n",
       "      <td>3</td>\n",
       "      <td>-1</td>\n",
       "      <td>0</td>\n",
       "      <td>unknown</td>\n",
       "      <td>yes</td>\n",
       "    </tr>\n",
       "    <tr>\n",
       "      <th>45207</th>\n",
       "      <td>71</td>\n",
       "      <td>retired</td>\n",
       "      <td>divorced</td>\n",
       "      <td>primary</td>\n",
       "      <td>no</td>\n",
       "      <td>1729</td>\n",
       "      <td>no</td>\n",
       "      <td>no</td>\n",
       "      <td>cellular</td>\n",
       "      <td>17</td>\n",
       "      <td>nov</td>\n",
       "      <td>456</td>\n",
       "      <td>2</td>\n",
       "      <td>-1</td>\n",
       "      <td>0</td>\n",
       "      <td>unknown</td>\n",
       "      <td>yes</td>\n",
       "    </tr>\n",
       "    <tr>\n",
       "      <th>45208</th>\n",
       "      <td>72</td>\n",
       "      <td>retired</td>\n",
       "      <td>married</td>\n",
       "      <td>secondary</td>\n",
       "      <td>no</td>\n",
       "      <td>5715</td>\n",
       "      <td>no</td>\n",
       "      <td>no</td>\n",
       "      <td>cellular</td>\n",
       "      <td>17</td>\n",
       "      <td>nov</td>\n",
       "      <td>1127</td>\n",
       "      <td>5</td>\n",
       "      <td>184</td>\n",
       "      <td>3</td>\n",
       "      <td>success</td>\n",
       "      <td>yes</td>\n",
       "    </tr>\n",
       "    <tr>\n",
       "      <th>45209</th>\n",
       "      <td>57</td>\n",
       "      <td>blue-collar</td>\n",
       "      <td>married</td>\n",
       "      <td>secondary</td>\n",
       "      <td>no</td>\n",
       "      <td>668</td>\n",
       "      <td>no</td>\n",
       "      <td>no</td>\n",
       "      <td>telephone</td>\n",
       "      <td>17</td>\n",
       "      <td>nov</td>\n",
       "      <td>508</td>\n",
       "      <td>4</td>\n",
       "      <td>-1</td>\n",
       "      <td>0</td>\n",
       "      <td>unknown</td>\n",
       "      <td>no</td>\n",
       "    </tr>\n",
       "    <tr>\n",
       "      <th>45210</th>\n",
       "      <td>37</td>\n",
       "      <td>entrepreneur</td>\n",
       "      <td>married</td>\n",
       "      <td>secondary</td>\n",
       "      <td>no</td>\n",
       "      <td>2971</td>\n",
       "      <td>no</td>\n",
       "      <td>no</td>\n",
       "      <td>cellular</td>\n",
       "      <td>17</td>\n",
       "      <td>nov</td>\n",
       "      <td>361</td>\n",
       "      <td>2</td>\n",
       "      <td>188</td>\n",
       "      <td>11</td>\n",
       "      <td>other</td>\n",
       "      <td>no</td>\n",
       "    </tr>\n",
       "  </tbody>\n",
       "</table>\n",
       "</div>"
      ],
      "text/plain": [
       "       age           job   marital  education default  balance housing loan  \\\n",
       "45206   51    technician   married   tertiary      no      825      no   no   \n",
       "45207   71       retired  divorced    primary      no     1729      no   no   \n",
       "45208   72       retired   married  secondary      no     5715      no   no   \n",
       "45209   57   blue-collar   married  secondary      no      668      no   no   \n",
       "45210   37  entrepreneur   married  secondary      no     2971      no   no   \n",
       "\n",
       "         contact  day month  duration  campaign  pdays  previous poutcome    y  \n",
       "45206   cellular   17   nov       977         3     -1         0  unknown  yes  \n",
       "45207   cellular   17   nov       456         2     -1         0  unknown  yes  \n",
       "45208   cellular   17   nov      1127         5    184         3  success  yes  \n",
       "45209  telephone   17   nov       508         4     -1         0  unknown   no  \n",
       "45210   cellular   17   nov       361         2    188        11    other   no  "
      ]
     },
     "execution_count": 4,
     "metadata": {},
     "output_type": "execute_result"
    }
   ],
   "source": [
    "df_bank_full.tail()"
   ]
  },
  {
   "cell_type": "markdown",
   "id": "fc7e375e",
   "metadata": {},
   "source": [
    "Sekarang, akan mencari tahu ada berapa banyak baris dan kolom didalam dataset."
   ]
  },
  {
   "cell_type": "code",
   "execution_count": 5,
   "id": "46db1f8b",
   "metadata": {},
   "outputs": [
    {
     "data": {
      "text/plain": [
       "(45211, 17)"
      ]
     },
     "execution_count": 5,
     "metadata": {},
     "output_type": "execute_result"
    }
   ],
   "source": [
    "df_bank_full.shape"
   ]
  },
  {
   "cell_type": "markdown",
   "id": "84225108",
   "metadata": {},
   "source": [
    "Diketahui bahwa didalam dataset, ada sebanyak 45211 baris dengan banyak kolom 17"
   ]
  },
  {
   "cell_type": "markdown",
   "id": "45503011",
   "metadata": {},
   "source": [
    "Kita akan melihat kolom-kolom apa saja yang ada"
   ]
  },
  {
   "cell_type": "code",
   "execution_count": 6,
   "id": "003dae6e",
   "metadata": {},
   "outputs": [
    {
     "data": {
      "text/plain": [
       "Index(['age', 'job', 'marital', 'education', 'default', 'balance', 'housing',\n",
       "       'loan', 'contact', 'day', 'month', 'duration', 'campaign', 'pdays',\n",
       "       'previous', 'poutcome', 'y'],\n",
       "      dtype='object')"
      ]
     },
     "execution_count": 6,
     "metadata": {},
     "output_type": "execute_result"
    }
   ],
   "source": [
    "df_bank_full.columns"
   ]
  },
  {
   "cell_type": "markdown",
   "id": "19b2d82b",
   "metadata": {},
   "source": [
    "Untuk melihat informasi dasar tentang kerangka data."
   ]
  },
  {
   "cell_type": "code",
   "execution_count": 7,
   "id": "f43b80bd",
   "metadata": {},
   "outputs": [
    {
     "name": "stdout",
     "output_type": "stream",
     "text": [
      "<class 'pandas.core.frame.DataFrame'>\n",
      "RangeIndex: 45211 entries, 0 to 45210\n",
      "Data columns (total 17 columns):\n",
      " #   Column     Non-Null Count  Dtype \n",
      "---  ------     --------------  ----- \n",
      " 0   age        45211 non-null  int64 \n",
      " 1   job        45211 non-null  object\n",
      " 2   marital    45211 non-null  object\n",
      " 3   education  45211 non-null  object\n",
      " 4   default    45211 non-null  object\n",
      " 5   balance    45211 non-null  int64 \n",
      " 6   housing    45211 non-null  object\n",
      " 7   loan       45211 non-null  object\n",
      " 8   contact    45211 non-null  object\n",
      " 9   day        45211 non-null  int64 \n",
      " 10  month      45211 non-null  object\n",
      " 11  duration   45211 non-null  int64 \n",
      " 12  campaign   45211 non-null  int64 \n",
      " 13  pdays      45211 non-null  int64 \n",
      " 14  previous   45211 non-null  int64 \n",
      " 15  poutcome   45211 non-null  object\n",
      " 16  y          45211 non-null  object\n",
      "dtypes: int64(7), object(10)\n",
      "memory usage: 5.9+ MB\n"
     ]
    }
   ],
   "source": [
    "df_bank_full.info()"
   ]
  },
  {
   "cell_type": "markdown",
   "id": "38327b1d",
   "metadata": {},
   "source": [
    "Informasi yang dapat diketahui, yaitu ada 10 kolom dengan type object : job, marital, education, default, housing, loan, contact, month, poutcome dan ada 7 kolom dengn type numeric : age, balance, day, duration, campaign, pdays, previous. jumlah setiap kolom sama sebank 45211 yang menandakan tidak ada missing value pada data.\n"
   ]
  },
  {
   "cell_type": "markdown",
   "id": "29a16d97",
   "metadata": {},
   "source": [
    "Selanjutnya, Kita akan mengubah tipe data object menjadi category."
   ]
  },
  {
   "cell_type": "code",
   "execution_count": 8,
   "id": "cdef3531",
   "metadata": {},
   "outputs": [],
   "source": [
    "df_bank_full['job'] = df_bank_full['job'].astype({'job':'category'})\n",
    "df_bank_full['marital'] = df_bank_full['marital'].astype({'marital':'category'})\n",
    "df_bank_full['education'] = df_bank_full['education'].astype({'education':'category'})\n",
    "df_bank_full['default'] = df_bank_full['default'].astype({'default':'category'})\n",
    "df_bank_full['housing'] = df_bank_full['housing'].astype({'housing':'category'})\n",
    "df_bank_full['loan'] = df_bank_full['loan'].astype({'loan':'category'})\n",
    "df_bank_full['contact'] = df_bank_full['contact'].astype({'contact':'category'})\n",
    "df_bank_full['month'] = df_bank_full['month'].astype({'month':'category'})\n",
    "df_bank_full['poutcome'] = df_bank_full['poutcome'].astype({'poutcome':'category'})\n",
    "df_bank_full['y'] = df_bank_full['y'].astype({'y':'category'})"
   ]
  },
  {
   "cell_type": "code",
   "execution_count": 9,
   "id": "c79cfc60",
   "metadata": {},
   "outputs": [
    {
     "name": "stdout",
     "output_type": "stream",
     "text": [
      "<class 'pandas.core.frame.DataFrame'>\n",
      "RangeIndex: 45211 entries, 0 to 45210\n",
      "Data columns (total 17 columns):\n",
      " #   Column     Non-Null Count  Dtype   \n",
      "---  ------     --------------  -----   \n",
      " 0   age        45211 non-null  int64   \n",
      " 1   job        45211 non-null  category\n",
      " 2   marital    45211 non-null  category\n",
      " 3   education  45211 non-null  category\n",
      " 4   default    45211 non-null  category\n",
      " 5   balance    45211 non-null  int64   \n",
      " 6   housing    45211 non-null  category\n",
      " 7   loan       45211 non-null  category\n",
      " 8   contact    45211 non-null  category\n",
      " 9   day        45211 non-null  int64   \n",
      " 10  month      45211 non-null  category\n",
      " 11  duration   45211 non-null  int64   \n",
      " 12  campaign   45211 non-null  int64   \n",
      " 13  pdays      45211 non-null  int64   \n",
      " 14  previous   45211 non-null  int64   \n",
      " 15  poutcome   45211 non-null  category\n",
      " 16  y          45211 non-null  category\n",
      "dtypes: category(10), int64(7)\n",
      "memory usage: 2.8 MB\n"
     ]
    }
   ],
   "source": [
    "df_bank_full.info()"
   ]
  },
  {
   "cell_type": "markdown",
   "id": "6daba61c",
   "metadata": {},
   "source": [
    "Selanjutnya, kita memeriksa central tendency dari data numerik pada dataset."
   ]
  },
  {
   "cell_type": "code",
   "execution_count": 10,
   "id": "90321ad6",
   "metadata": {},
   "outputs": [
    {
     "data": {
      "text/html": [
       "<div>\n",
       "<style scoped>\n",
       "    .dataframe tbody tr th:only-of-type {\n",
       "        vertical-align: middle;\n",
       "    }\n",
       "\n",
       "    .dataframe tbody tr th {\n",
       "        vertical-align: top;\n",
       "    }\n",
       "\n",
       "    .dataframe thead th {\n",
       "        text-align: right;\n",
       "    }\n",
       "</style>\n",
       "<table border=\"1\" class=\"dataframe\">\n",
       "  <thead>\n",
       "    <tr style=\"text-align: right;\">\n",
       "      <th></th>\n",
       "      <th>age</th>\n",
       "      <th>balance</th>\n",
       "      <th>day</th>\n",
       "      <th>duration</th>\n",
       "      <th>campaign</th>\n",
       "      <th>pdays</th>\n",
       "      <th>previous</th>\n",
       "    </tr>\n",
       "  </thead>\n",
       "  <tbody>\n",
       "    <tr>\n",
       "      <th>count</th>\n",
       "      <td>45211.000000</td>\n",
       "      <td>45211.000000</td>\n",
       "      <td>45211.000000</td>\n",
       "      <td>45211.000000</td>\n",
       "      <td>45211.000000</td>\n",
       "      <td>45211.000000</td>\n",
       "      <td>45211.000000</td>\n",
       "    </tr>\n",
       "    <tr>\n",
       "      <th>mean</th>\n",
       "      <td>40.936210</td>\n",
       "      <td>1362.272058</td>\n",
       "      <td>15.806419</td>\n",
       "      <td>258.163080</td>\n",
       "      <td>2.763841</td>\n",
       "      <td>40.197828</td>\n",
       "      <td>0.580323</td>\n",
       "    </tr>\n",
       "    <tr>\n",
       "      <th>std</th>\n",
       "      <td>10.618762</td>\n",
       "      <td>3044.765829</td>\n",
       "      <td>8.322476</td>\n",
       "      <td>257.527812</td>\n",
       "      <td>3.098021</td>\n",
       "      <td>100.128746</td>\n",
       "      <td>2.303441</td>\n",
       "    </tr>\n",
       "    <tr>\n",
       "      <th>min</th>\n",
       "      <td>18.000000</td>\n",
       "      <td>-8019.000000</td>\n",
       "      <td>1.000000</td>\n",
       "      <td>0.000000</td>\n",
       "      <td>1.000000</td>\n",
       "      <td>-1.000000</td>\n",
       "      <td>0.000000</td>\n",
       "    </tr>\n",
       "    <tr>\n",
       "      <th>25%</th>\n",
       "      <td>33.000000</td>\n",
       "      <td>72.000000</td>\n",
       "      <td>8.000000</td>\n",
       "      <td>103.000000</td>\n",
       "      <td>1.000000</td>\n",
       "      <td>-1.000000</td>\n",
       "      <td>0.000000</td>\n",
       "    </tr>\n",
       "    <tr>\n",
       "      <th>50%</th>\n",
       "      <td>39.000000</td>\n",
       "      <td>448.000000</td>\n",
       "      <td>16.000000</td>\n",
       "      <td>180.000000</td>\n",
       "      <td>2.000000</td>\n",
       "      <td>-1.000000</td>\n",
       "      <td>0.000000</td>\n",
       "    </tr>\n",
       "    <tr>\n",
       "      <th>75%</th>\n",
       "      <td>48.000000</td>\n",
       "      <td>1428.000000</td>\n",
       "      <td>21.000000</td>\n",
       "      <td>319.000000</td>\n",
       "      <td>3.000000</td>\n",
       "      <td>-1.000000</td>\n",
       "      <td>0.000000</td>\n",
       "    </tr>\n",
       "    <tr>\n",
       "      <th>max</th>\n",
       "      <td>95.000000</td>\n",
       "      <td>102127.000000</td>\n",
       "      <td>31.000000</td>\n",
       "      <td>4918.000000</td>\n",
       "      <td>63.000000</td>\n",
       "      <td>871.000000</td>\n",
       "      <td>275.000000</td>\n",
       "    </tr>\n",
       "  </tbody>\n",
       "</table>\n",
       "</div>"
      ],
      "text/plain": [
       "                age        balance           day      duration      campaign  \\\n",
       "count  45211.000000   45211.000000  45211.000000  45211.000000  45211.000000   \n",
       "mean      40.936210    1362.272058     15.806419    258.163080      2.763841   \n",
       "std       10.618762    3044.765829      8.322476    257.527812      3.098021   \n",
       "min       18.000000   -8019.000000      1.000000      0.000000      1.000000   \n",
       "25%       33.000000      72.000000      8.000000    103.000000      1.000000   \n",
       "50%       39.000000     448.000000     16.000000    180.000000      2.000000   \n",
       "75%       48.000000    1428.000000     21.000000    319.000000      3.000000   \n",
       "max       95.000000  102127.000000     31.000000   4918.000000     63.000000   \n",
       "\n",
       "              pdays      previous  \n",
       "count  45211.000000  45211.000000  \n",
       "mean      40.197828      0.580323  \n",
       "std      100.128746      2.303441  \n",
       "min       -1.000000      0.000000  \n",
       "25%       -1.000000      0.000000  \n",
       "50%       -1.000000      0.000000  \n",
       "75%       -1.000000      0.000000  \n",
       "max      871.000000    275.000000  "
      ]
     },
     "execution_count": 10,
     "metadata": {},
     "output_type": "execute_result"
    }
   ],
   "source": [
    "df_bank_full.describe()"
   ]
  },
  {
   "cell_type": "markdown",
   "id": "7bfd6454",
   "metadata": {},
   "source": [
    "Dari hasil diatas adapun informasi yang dapat kita ketahui:\n",
    "1. Age = Usia calon nasabah muda adalah 18 tahun dan usia calon nasabah tua adalah 95 tahun. Dan untuk rata-raton calon nasabah ada pada usia 41 tahun.\n",
    "\n",
    "2. Balance = Rata-rata credit balance calon nasabah adalah 1362,3 (EUR) dengan jumlah balance paling kecil adalah -8019 (EUR) dan jumlah balance terbesar adalah 102,127 (EUR). Adapun standar deviasi pada kolom balance ini adalah 3044,77 yang mengindikasikan keberagaman nilai data ini.\n",
    "\n",
    "3. Duration = Rata-rata durasi panggilan terakhir adalah 258 detik. Adapun waktu terpendek untuk suatu panggilan adalah 0 yang diketahui pada keterangan dataset bahwa nilai 0 pada kolom ini artinya bahwa staf marketing bank tidak berhasil menghubungi calon nasabah tersebut. Hal ini berakibat hilangnya kemungkinan calon nasabah mendaftarkan diri pada layanan kredit ini. Indikasinya adalah bahwa pada campaign kali ini, terdapat staf marketing bank yang tidak berhasil menghubungi calon nasabah. Selanjutnya, waktu terpanjang untuk suatu panggilan pada campaign kali ini adalah 4918 detik.\n",
    "\n",
    "4. Campaign = Rata-rata banyaknya panggilan yang dilakukan staf marketing bank kepada setiap nasabah untuk kampanye kali ini adalah 2-3 kali dengan banyaknya panggilan paling sedikit adalah 1 kali dan paling banyak adalah 63 kali.\n",
    "\n",
    "5. Pdays = Rata-rata banyaknya hari sejak panggilan terakhir (yang dilakukan staf marketing bank) pada campaign sebelum ini adalah sekitar 40 hari. Adapun nilai minimumnya adalah -1 hari dan nilai maksimum hari adalah 871. Pada keterangan disediakan keterangan bahwa nilai 999 pada kolom ini mengartikan bahwa client belum pernah dihubungi sebelumnya. Namun, pada data ini tidak terdapat nilai 999 pada kolom ini yang mengindikasikan bahwa client yang dihubungi pada campaign kali ini adalah client yang sudah pernah dihubungi sebelumnya.\n",
    "\n",
    "6. Previous = Rata-rata banyaknya panggilan yang dilakukan staf marketing bank kepada setiap nasabah sebelum kampanye dilaksanakan 0-1 kali dengan banyaknya panggilan paling sedikit adalah 0 kali dan paling banyak adalah 275 kali.\n"
   ]
  },
  {
   "cell_type": "markdown",
   "id": "40f04ea2",
   "metadata": {},
   "source": [
    "---\n",
    "# Data Cleaning\n",
    "---"
   ]
  },
  {
   "cell_type": "markdown",
   "id": "e58ab66c",
   "metadata": {},
   "source": [
    "Kita akan memeriksaa jika ada data yang terduplicate."
   ]
  },
  {
   "cell_type": "code",
   "execution_count": 11,
   "id": "b248b110",
   "metadata": {},
   "outputs": [
    {
     "data": {
      "text/plain": [
       "0"
      ]
     },
     "execution_count": 11,
     "metadata": {},
     "output_type": "execute_result"
    }
   ],
   "source": [
    "df_bank_full.duplicated().sum()"
   ]
  },
  {
   "cell_type": "markdown",
   "id": "4cec430a",
   "metadata": {},
   "source": [
    "Berdasarkan hasil diatas, dapat diketahui tidak ada duplikat data didalam dataset."
   ]
  },
  {
   "cell_type": "markdown",
   "id": "131697d7",
   "metadata": {},
   "source": [
    "Selanjutnya, karena di kolom durasi/waktu terpendek 0, itu yang artinya staff tidak bisa menghubungi calon nasabah. Untuk itu kita akan menghapus duration == 0."
   ]
  },
  {
   "cell_type": "code",
   "execution_count": 12,
   "id": "93b0139b",
   "metadata": {},
   "outputs": [],
   "source": [
    "df_duration_0 = df_bank_full[df_bank_full['duration']==0].index\n",
    "df_bank_full.drop(df_duration_0, inplace=True)"
   ]
  },
  {
   "cell_type": "markdown",
   "id": "444a5100",
   "metadata": {},
   "source": [
    "Kita akan mengecek kembali dimensi data."
   ]
  },
  {
   "cell_type": "code",
   "execution_count": 13,
   "id": "1ed2aebb",
   "metadata": {},
   "outputs": [
    {
     "data": {
      "text/plain": [
       "(45208, 17)"
      ]
     },
     "execution_count": 13,
     "metadata": {},
     "output_type": "execute_result"
    }
   ],
   "source": [
    "df_bank_full.shape"
   ]
  },
  {
   "cell_type": "markdown",
   "id": "fbdc5f67",
   "metadata": {},
   "source": [
    "Dapat diketahui setelah penghapusan duration == 0, data yang semula ada 45211 sekarang menjadi 45208."
   ]
  },
  {
   "cell_type": "code",
   "execution_count": 14,
   "id": "29a6d368",
   "metadata": {},
   "outputs": [
    {
     "data": {
      "text/plain": [
       "age          0\n",
       "job          0\n",
       "marital      0\n",
       "education    0\n",
       "default      0\n",
       "balance      0\n",
       "housing      0\n",
       "loan         0\n",
       "contact      0\n",
       "day          0\n",
       "month        0\n",
       "duration     0\n",
       "campaign     0\n",
       "pdays        0\n",
       "previous     0\n",
       "poutcome     0\n",
       "y            0\n",
       "dtype: int64"
      ]
     },
     "execution_count": 14,
     "metadata": {},
     "output_type": "execute_result"
    }
   ],
   "source": [
    "df_bank_full.isnull().sum()"
   ]
  },
  {
   "cell_type": "markdown",
   "id": "36f4e1c5",
   "metadata": {},
   "source": [
    "Tidak ada missing value didalam dataset."
   ]
  },
  {
   "cell_type": "markdown",
   "id": "ed5632b1",
   "metadata": {},
   "source": [
    "---\n",
    "# EDA\n",
    "---"
   ]
  },
  {
   "cell_type": "markdown",
   "id": "3e1162b5",
   "metadata": {},
   "source": [
    "### Frekuensi nilai pada variabel y"
   ]
  },
  {
   "cell_type": "markdown",
   "id": "36e3745c",
   "metadata": {},
   "source": [
    "Selanjutnya kita akan menghitung persentase keputusan akhir client untuk bergabung dengan program kredit pada campaign ini."
   ]
  },
  {
   "cell_type": "code",
   "execution_count": 15,
   "id": "9b429dea",
   "metadata": {},
   "outputs": [
    {
     "data": {
      "text/plain": [
       "no     88.300743\n",
       "yes    11.699257\n",
       "Name: y, dtype: float64"
      ]
     },
     "execution_count": 15,
     "metadata": {},
     "output_type": "execute_result"
    }
   ],
   "source": [
    "df_bank_full['y'].value_counts(normalize=True)*100"
   ]
  },
  {
   "cell_type": "markdown",
   "id": "641e1ff0",
   "metadata": {},
   "source": [
    "Berdasarkan hasil diatas, informasi yang diketahui terdapat 11.7 % client yang memutuskan untuk menjadi nasabah di bank, sementara sisanya 88.3 % client memutuskan untuk tidak bergabung menjadi nasabah bank."
   ]
  },
  {
   "cell_type": "markdown",
   "id": "667842f9",
   "metadata": {},
   "source": [
    "Selanjutnya kita akan melihat berapa banyak client yang mau bergabung menjadi nasabah dan yang belu mau bergabung menjadi nasabah."
   ]
  },
  {
   "cell_type": "code",
   "execution_count": 16,
   "id": "8a261790",
   "metadata": {},
   "outputs": [
    {
     "data": {
      "text/plain": [
       "no     39919\n",
       "yes     5289\n",
       "Name: y, dtype: int64"
      ]
     },
     "execution_count": 16,
     "metadata": {},
     "output_type": "execute_result"
    }
   ],
   "source": [
    "df_bank_full['y'].value_counts()"
   ]
  },
  {
   "cell_type": "markdown",
   "id": "72430993",
   "metadata": {},
   "source": [
    "Berdasarkan hasil diatas, sebanyak 39919 yang belum mau menjadi nasabah dam 5289 sudah menjadi nasabah di bank tersebut. Selanjutnya kita akan visualisai data tersebut :"
   ]
  },
  {
   "cell_type": "code",
   "execution_count": 17,
   "id": "11f354fb",
   "metadata": {},
   "outputs": [
    {
     "data": {
      "image/png": "[encoded data removed]",
      "text/plain": [
       "<Figure size 720x360 with 1 Axes>"
      ]
     },
     "metadata": {
      "needs_background": "light"
     },
     "output_type": "display_data"
    }
   ],
   "source": [
    "# Membuat visualisasi data\n",
    "f, ax = plt.subplots(figsize=(10, 5))\n",
    "ax = sns.countplot(x=\"y\", data=df_bank_full)\n",
    "plt.show()"
   ]
  },
  {
   "cell_type": "markdown",
   "id": "4b578e9e",
   "metadata": {},
   "source": [
    "Berdasarkan hasil diatas, sebanyak 39919 yang belum mau menjadi nasabah dan 5289 sudah menjadi nasabah di bank tersebut. Kita juga dapat melihat perbedaan yang signifikan."
   ]
  },
  {
   "cell_type": "markdown",
   "id": "061171e6",
   "metadata": {},
   "source": [
    "### Distribusi masing-masing kolom numerik"
   ]
  },
  {
   "cell_type": "code",
   "execution_count": 19,
   "id": "67d1c604",
   "metadata": {},
   "outputs": [
    {
     "data": {
      "text/html": [
       "<div>\n",
       "<style scoped>\n",
       "    .dataframe tbody tr th:only-of-type {\n",
       "        vertical-align: middle;\n",
       "    }\n",
       "\n",
       "    .dataframe tbody tr th {\n",
       "        vertical-align: top;\n",
       "    }\n",
       "\n",
       "    .dataframe thead th {\n",
       "        text-align: right;\n",
       "    }\n",
       "</style>\n",
       "<table border=\"1\" class=\"dataframe\">\n",
       "  <thead>\n",
       "    <tr style=\"text-align: right;\">\n",
       "      <th></th>\n",
       "      <th>age</th>\n",
       "      <th>balance</th>\n",
       "      <th>day</th>\n",
       "      <th>duration</th>\n",
       "      <th>campaign</th>\n",
       "      <th>pdays</th>\n",
       "      <th>previous</th>\n",
       "    </tr>\n",
       "  </thead>\n",
       "  <tbody>\n",
       "    <tr>\n",
       "      <th>count</th>\n",
       "      <td>45208.000000</td>\n",
       "      <td>45208.000000</td>\n",
       "      <td>45208.000000</td>\n",
       "      <td>45208.000000</td>\n",
       "      <td>45208.000000</td>\n",
       "      <td>45208.000000</td>\n",
       "      <td>45208.000000</td>\n",
       "    </tr>\n",
       "    <tr>\n",
       "      <th>mean</th>\n",
       "      <td>40.936294</td>\n",
       "      <td>1362.228676</td>\n",
       "      <td>15.806052</td>\n",
       "      <td>258.180211</td>\n",
       "      <td>2.763560</td>\n",
       "      <td>40.200562</td>\n",
       "      <td>0.580362</td>\n",
       "    </tr>\n",
       "    <tr>\n",
       "      <th>std</th>\n",
       "      <td>10.618823</td>\n",
       "      <td>3044.794660</td>\n",
       "      <td>8.322417</td>\n",
       "      <td>257.527769</td>\n",
       "      <td>3.097582</td>\n",
       "      <td>100.131506</td>\n",
       "      <td>2.303513</td>\n",
       "    </tr>\n",
       "    <tr>\n",
       "      <th>min</th>\n",
       "      <td>18.000000</td>\n",
       "      <td>-8019.000000</td>\n",
       "      <td>1.000000</td>\n",
       "      <td>1.000000</td>\n",
       "      <td>1.000000</td>\n",
       "      <td>-1.000000</td>\n",
       "      <td>0.000000</td>\n",
       "    </tr>\n",
       "    <tr>\n",
       "      <th>25%</th>\n",
       "      <td>33.000000</td>\n",
       "      <td>72.000000</td>\n",
       "      <td>8.000000</td>\n",
       "      <td>103.000000</td>\n",
       "      <td>1.000000</td>\n",
       "      <td>-1.000000</td>\n",
       "      <td>0.000000</td>\n",
       "    </tr>\n",
       "    <tr>\n",
       "      <th>50%</th>\n",
       "      <td>39.000000</td>\n",
       "      <td>448.000000</td>\n",
       "      <td>16.000000</td>\n",
       "      <td>180.000000</td>\n",
       "      <td>2.000000</td>\n",
       "      <td>-1.000000</td>\n",
       "      <td>0.000000</td>\n",
       "    </tr>\n",
       "    <tr>\n",
       "      <th>75%</th>\n",
       "      <td>48.000000</td>\n",
       "      <td>1428.000000</td>\n",
       "      <td>21.000000</td>\n",
       "      <td>319.000000</td>\n",
       "      <td>3.000000</td>\n",
       "      <td>-1.000000</td>\n",
       "      <td>0.000000</td>\n",
       "    </tr>\n",
       "    <tr>\n",
       "      <th>max</th>\n",
       "      <td>95.000000</td>\n",
       "      <td>102127.000000</td>\n",
       "      <td>31.000000</td>\n",
       "      <td>4918.000000</td>\n",
       "      <td>63.000000</td>\n",
       "      <td>871.000000</td>\n",
       "      <td>275.000000</td>\n",
       "    </tr>\n",
       "  </tbody>\n",
       "</table>\n",
       "</div>"
      ],
      "text/plain": [
       "                age        balance           day      duration      campaign  \\\n",
       "count  45208.000000   45208.000000  45208.000000  45208.000000  45208.000000   \n",
       "mean      40.936294    1362.228676     15.806052    258.180211      2.763560   \n",
       "std       10.618823    3044.794660      8.322417    257.527769      3.097582   \n",
       "min       18.000000   -8019.000000      1.000000      1.000000      1.000000   \n",
       "25%       33.000000      72.000000      8.000000    103.000000      1.000000   \n",
       "50%       39.000000     448.000000     16.000000    180.000000      2.000000   \n",
       "75%       48.000000    1428.000000     21.000000    319.000000      3.000000   \n",
       "max       95.000000  102127.000000     31.000000   4918.000000     63.000000   \n",
       "\n",
       "              pdays      previous  \n",
       "count  45208.000000  45208.000000  \n",
       "mean      40.200562      0.580362  \n",
       "std      100.131506      2.303513  \n",
       "min       -1.000000      0.000000  \n",
       "25%       -1.000000      0.000000  \n",
       "50%       -1.000000      0.000000  \n",
       "75%       -1.000000      0.000000  \n",
       "max      871.000000    275.000000  "
      ]
     },
     "execution_count": 19,
     "metadata": {},
     "output_type": "execute_result"
    }
   ],
   "source": [
    "df_bank_full.describe()"
   ]
  },
  {
   "cell_type": "code",
   "execution_count": 20,
   "id": "5e0e32a7",
   "metadata": {},
   "outputs": [
    {
     "data": {
      "image/png": "[encoded data removed]",
      "text/plain": [
       "<Figure size 1440x1440 with 9 Axes>"
      ]
     },
     "metadata": {
      "needs_background": "light"
     },
     "output_type": "display_data"
    }
   ],
   "source": [
    "# visualisasi\n",
    "df_bank_full.hist(figsize=(20, 20))\n",
    "plt.show()"
   ]
  },
  {
   "cell_type": "markdown",
   "id": "f39ee6f5",
   "metadata": {},
   "source": [
    "### Mendeteksi Outlier"
   ]
  },
  {
   "cell_type": "markdown",
   "id": "5508d8b7",
   "metadata": {},
   "source": [
    "Kita akan mendeteksi outlier berdasarkan usia client."
   ]
  },
  {
   "cell_type": "code",
   "execution_count": 21,
   "id": "9897ae6a",
   "metadata": {},
   "outputs": [
    {
     "data": {
      "text/plain": [
       "<AxesSubplot:>"
      ]
     },
     "execution_count": 21,
     "metadata": {},
     "output_type": "execute_result"
    },
    {
     "data": {
      "image/png": "[encoded data removed]",
      "text/plain": [
       "<Figure size 504x360 with 1 Axes>"
      ]
     },
     "metadata": {
      "needs_background": "light"
     },
     "output_type": "display_data"
    }
   ],
   "source": [
    "df_bank_full.boxplot(\n",
    "    column = ['age'],\n",
    "    figsize=(7,5))"
   ]
  },
  {
   "cell_type": "markdown",
   "id": "fc6c4d95",
   "metadata": {},
   "source": [
    "Menurut hasil diatas, usia lebih dari 70 tahun merupakan outliers pada data. Selanjutnya kita kan menghitung jumlah client yang berada diatas usia 70 tahun."
   ]
  },
  {
   "cell_type": "code",
   "execution_count": 23,
   "id": "c949701e",
   "metadata": {},
   "outputs": [
    {
     "data": {
      "text/plain": [
       "age          487\n",
       "job          487\n",
       "marital      487\n",
       "education    487\n",
       "default      487\n",
       "balance      487\n",
       "housing      487\n",
       "loan         487\n",
       "contact      487\n",
       "day          487\n",
       "month        487\n",
       "duration     487\n",
       "campaign     487\n",
       "pdays        487\n",
       "previous     487\n",
       "poutcome     487\n",
       "y            487\n",
       "dtype: int64"
      ]
     },
     "execution_count": 23,
     "metadata": {},
     "output_type": "execute_result"
    }
   ],
   "source": [
    "df_bank_full[df_bank_full['age']>70].count()"
   ]
  },
  {
   "cell_type": "markdown",
   "id": "d05483bd",
   "metadata": {},
   "source": [
    "Sebanyak 487 client dengan usia diatas 70 tahun. Selanjutnya kita kan melihat apakah client dengan umur yang diatas 70 tahun merupakan nasabah atau bukan?"
   ]
  },
  {
   "cell_type": "code",
   "execution_count": 24,
   "id": "41092931",
   "metadata": {},
   "outputs": [
    {
     "data": {
      "text/plain": [
       "218"
      ]
     },
     "execution_count": 24,
     "metadata": {},
     "output_type": "execute_result"
    }
   ],
   "source": [
    "df_bank_full[(df_bank_full['age']>70) & (df_bank_full['y']=='yes')]['y'].count()"
   ]
  },
  {
   "cell_type": "markdown",
   "id": "23e79847",
   "metadata": {},
   "source": [
    "Sebanyak 218 client yang usianya diatas 70 tahun merupakan nasabah."
   ]
  },
  {
   "cell_type": "markdown",
   "id": "16f6496f",
   "metadata": {},
   "source": [
    "Berikutnya kita akan melihat outliers untuk kolom balance, duration, campaign, pdays dan previous."
   ]
  },
  {
   "cell_type": "code",
   "execution_count": 25,
   "id": "0bf92a0a",
   "metadata": {},
   "outputs": [
    {
     "data": {
      "text/plain": [
       "<AxesSubplot:>"
      ]
     },
     "execution_count": 25,
     "metadata": {},
     "output_type": "execute_result"
    },
    {
     "data": {
      "image/png": "[encoded data removed]",
      "text/plain": [
       "<Figure size 216x648 with 1 Axes>"
      ]
     },
     "metadata": {
      "needs_background": "light"
     },
     "output_type": "display_data"
    }
   ],
   "source": [
    "df_bank_full.boxplot(\n",
    "    column = ['balance'],\n",
    "    figsize=(3,9)\n",
    ")"
   ]
  },
  {
   "cell_type": "code",
   "execution_count": 26,
   "id": "acd8347b",
   "metadata": {},
   "outputs": [
    {
     "data": {
      "text/plain": [
       "<AxesSubplot:>"
      ]
     },
     "execution_count": 26,
     "metadata": {},
     "output_type": "execute_result"
    },
    {
     "data": {
      "image/png": "[encoded data removed]",
      "text/plain": [
       "<Figure size 216x648 with 1 Axes>"
      ]
     },
     "metadata": {
      "needs_background": "light"
     },
     "output_type": "display_data"
    }
   ],
   "source": [
    "df_bank_full.boxplot(\n",
    "    column = ['duration'],\n",
    "    figsize=(3,9)\n",
    ")"
   ]
  },
  {
   "cell_type": "code",
   "execution_count": 27,
   "id": "d65e209d",
   "metadata": {},
   "outputs": [
    {
     "data": {
      "text/plain": [
       "<AxesSubplot:>"
      ]
     },
     "execution_count": 27,
     "metadata": {},
     "output_type": "execute_result"
    },
    {
     "data": {
      "image/png": "[encoded data removed]",
      "text/plain": [
       "<Figure size 216x648 with 1 Axes>"
      ]
     },
     "metadata": {
      "needs_background": "light"
     },
     "output_type": "display_data"
    }
   ],
   "source": [
    "df_bank_full.boxplot(\n",
    "    column = ['campaign'],\n",
    "    figsize=(3,9)\n",
    ")"
   ]
  },
  {
   "cell_type": "code",
   "execution_count": 28,
   "id": "21f83d32",
   "metadata": {},
   "outputs": [
    {
     "data": {
      "text/plain": [
       "<AxesSubplot:>"
      ]
     },
     "execution_count": 28,
     "metadata": {},
     "output_type": "execute_result"
    },
    {
     "data": {
      "image/png": "[encoded data removed]",
      "text/plain": [
       "<Figure size 216x648 with 1 Axes>"
      ]
     },
     "metadata": {
      "needs_background": "light"
     },
     "output_type": "display_data"
    }
   ],
   "source": [
    "df_bank_full.boxplot(\n",
    "    column = ['pdays'],\n",
    "    figsize=(3,9)\n",
    ")"
   ]
  },
  {
   "cell_type": "code",
   "execution_count": 29,
   "id": "9b15f4e4",
   "metadata": {},
   "outputs": [
    {
     "data": {
      "text/plain": [
       "<AxesSubplot:>"
      ]
     },
     "execution_count": 29,
     "metadata": {},
     "output_type": "execute_result"
    },
    {
     "data": {
      "image/png": "[encoded data removed]",
      "text/plain": [
       "<Figure size 216x648 with 1 Axes>"
      ]
     },
     "metadata": {
      "needs_background": "light"
     },
     "output_type": "display_data"
    }
   ],
   "source": [
    "df_bank_full.boxplot(\n",
    "    column = ['previous'],\n",
    "    figsize=(3,9)\n",
    ")"
   ]
  },
  {
   "cell_type": "markdown",
   "id": "c2e54d14",
   "metadata": {},
   "source": [
    "Menurut hasil diatas, ada satu data di previous yang nilainya jauh dari data lainnya. Maka, kita akan menghapus data tersebut."
   ]
  },
  {
   "cell_type": "code",
   "execution_count": 30,
   "id": "33c9095c",
   "metadata": {},
   "outputs": [
    {
     "data": {
      "text/plain": [
       "(45207, 17)"
      ]
     },
     "execution_count": 30,
     "metadata": {},
     "output_type": "execute_result"
    }
   ],
   "source": [
    "df_previous_outlier = df_bank_full[df_bank_full['previous']>250].index\n",
    "df_bank_full.drop(df_previous_outlier, inplace=True)\n",
    "df_bank_full.shape"
   ]
  },
  {
   "cell_type": "markdown",
   "id": "b5a25ba8",
   "metadata": {},
   "source": [
    "Berdasarkan hasil di atas, outlier data berhasil dihapus. Selanjutnya, data category akan dipetakan ke dalam bentuk angka untuk mempermudah analisis."
   ]
  },
  {
   "cell_type": "markdown",
   "id": "eb4d184f",
   "metadata": {},
   "source": [
    "Adapun pemetaan setiap nilai dari data category dapat dilihat seperti berikut."
   ]
  },
  {
   "cell_type": "code",
   "execution_count": 31,
   "id": "f3ccd5a6",
   "metadata": {},
   "outputs": [],
   "source": [
    "df_bank_full['month']= df_bank_full['month'].replace({'jan':1, 'feb':2,'mar':3,'apr':4,\n",
    "                                                      'may':5,'jun':6, 'jul':7,'aug':8,\n",
    "                                                      'sep':9,'oct':10,'nov':11,'dec':12})\n",
    "\n",
    "df_bank_full['education'] = df_bank_full['education'].replace({'primary':1,'secondary':2,\n",
    "                                                               'tertiary':3,'unknown':4})\n",
    "\n",
    "df_bank_full['marital'] = df_bank_full['marital'].replace({'single':1,'married':2,'divorced':3})\n",
    "\n",
    "df_bank_full['housing'] = df_bank_full['housing'].replace({'yes':1, 'no':0})\n",
    "\n",
    "df_bank_full['default'] = df_bank_full['default'].replace({'yes':1, 'no':0})\n",
    "\n",
    "df_bank_full['loan'] = df_bank_full['loan'].replace({'yes':1, 'no':0})\n",
    "\n",
    "df_bank_full['job']= df_bank_full['job'].replace({'admin.':1, 'blue-collar':2,'entrepreneur':3,'housemaid':4,\n",
    "                                                  'management':5,'retired':6, 'self-employed':7,'services':8,\n",
    "                                                  'student':9,'technician':10,'unemployed':11,'unknown':12})\n",
    "\n",
    "df_bank_full['y'] = df_bank_full['y'].replace({'yes':1, 'no': 0})"
   ]
  },
  {
   "cell_type": "code",
   "execution_count": 32,
   "id": "245efbef",
   "metadata": {},
   "outputs": [
    {
     "data": {
      "image/png": "[encoded data removed]",
      "text/plain": [
       "<Figure size 1440x1080 with 2 Axes>"
      ]
     },
     "metadata": {
      "needs_background": "light"
     },
     "output_type": "display_data"
    }
   ],
   "source": [
    "# Visualisasi korelasi menggunakan heatmap plot\n",
    "plt.figure(figsize=(20, 15))\n",
    "ax = sns.heatmap(df_bank_full.corr(), annot=True, cmap=\"PuRd\")"
   ]
  },
  {
   "cell_type": "markdown",
   "id": "f4bc1368",
   "metadata": {},
   "source": [
    "Selanjutnya, akan dilihat kecenderungan klien (berdasarkan pendidikan) terhadap keputusannya dalam memilih apakah akan bergabung menjadi nasabah."
   ]
  },
  {
   "cell_type": "code",
   "execution_count": 33,
   "id": "94a47d7c",
   "metadata": {},
   "outputs": [
    {
     "name": "stdout",
     "output_type": "stream",
     "text": [
      "y  education\n",
      "0  1             6259\n",
      "   2            20750\n",
      "   3            11304\n",
      "   4             1605\n",
      "1  1              591\n",
      "   2             2450\n",
      "   3             1996\n",
      "   4              252\n",
      "dtype: int64\n"
     ]
    }
   ],
   "source": [
    "print(df_bank_full.groupby(['y','education']).size())"
   ]
  },
  {
   "cell_type": "markdown",
   "id": "1fc5d3d6",
   "metadata": {},
   "source": [
    "Berdasarkan hasil diatas diketahui perbandingan antara pendidikan unknown antara menjadi nasabah dan tidak. Ada 1605 client dengan pendidikan unknown memilih tidak menjadi nasabah."
   ]
  },
  {
   "cell_type": "markdown",
   "id": "4478cf01",
   "metadata": {},
   "source": [
    "Selanjutnya, akan dilihat kecenderungan klien (berdasarkan marital) terhadap keputusannya dalam memilih apakah akan bergabung menjadi nasabah."
   ]
  },
  {
   "cell_type": "code",
   "execution_count": 34,
   "id": "2794e37d",
   "metadata": {},
   "outputs": [
    {
     "name": "stdout",
     "output_type": "stream",
     "text": [
      "y  marital\n",
      "0  3           4585\n",
      "   2          24455\n",
      "   1          10878\n",
      "1  3            622\n",
      "   2           2755\n",
      "   1           1912\n",
      "dtype: int64\n"
     ]
    }
   ],
   "source": [
    "print(df_bank_full.groupby(['y','marital']).size())"
   ]
  },
  {
   "cell_type": "markdown",
   "id": "2aed370f",
   "metadata": {},
   "source": [
    "Berdasarkan hasil diatas, diketahui sebanyak 24455 client yang sudah menikah memilih tidak menjadi nasabbah dibank tersebut."
   ]
  },
  {
   "cell_type": "markdown",
   "id": "6f2afb25",
   "metadata": {},
   "source": [
    "Sekarang kita akan melihat visualisasi client yang nasabah dan tidak jadimenjadi nasabah berdasarkan usianya."
   ]
  },
  {
   "cell_type": "code",
   "execution_count": 35,
   "id": "135b1d15",
   "metadata": {},
   "outputs": [
    {
     "data": {
      "image/png": "[encoded data removed]",
      "text/plain": [
       "<Figure size 690.375x216 with 1 Axes>"
      ]
     },
     "metadata": {
      "needs_background": "light"
     },
     "output_type": "display_data"
    }
   ],
   "source": [
    "df_age = sns.FacetGrid(df_bank_full, hue=\"y\", aspect = 3)\n",
    "df_age.map(sns.kdeplot, 'age', shade=True)\n",
    "df_age.set(xlim=(0, df_bank_full['age'].max()))\n",
    "df_age.add_legend()\n",
    "\n",
    "plt.show()"
   ]
  },
  {
   "cell_type": "markdown",
   "id": "288cbf23",
   "metadata": {},
   "source": [
    "Berdasarkan hasil visualisasi diatas, dapat dilihat usia antara 30-40 tahun, banyak client yang tidak tergabung menjadi nasabah bank."
   ]
  },
  {
   "cell_type": "markdown",
   "id": "3ca6fff4",
   "metadata": {},
   "source": [
    "Selanjutnya, kita akan membentuk grafik batang (bar) untuk melihat kecenderungan client dalam memutuskan apakah mereka akan bergabung menjadi nasabah bank atau tidak berdasarkan housing, default, dan loan."
   ]
  },
  {
   "cell_type": "code",
   "execution_count": 36,
   "id": "389424ce",
   "metadata": {},
   "outputs": [],
   "source": [
    "def barh_chart(feature):\n",
    "    yes = df_bank_full[df_bank_full['y']==1][feature].value_counts()\n",
    "    no = df_bank_full[df_bank_full['y']==0][feature].value_counts()\n",
    "    df = pd.DataFrame([yes,no])\n",
    "    df.index = ['Yes', 'No']\n",
    "    df.plot(kind = 'barh', stacked = True, figsize = (10,5))\n",
    "    "
   ]
  },
  {
   "cell_type": "code",
   "execution_count": 37,
   "id": "fb5cba36",
   "metadata": {},
   "outputs": [
    {
     "data": {
      "text/plain": [
       "(array([    0.,  5000., 10000., 15000., 20000., 25000., 30000., 35000.,\n",
       "        40000., 45000.]),\n",
       " [Text(0, 0, ''),\n",
       "  Text(0, 0, ''),\n",
       "  Text(0, 0, ''),\n",
       "  Text(0, 0, ''),\n",
       "  Text(0, 0, ''),\n",
       "  Text(0, 0, ''),\n",
       "  Text(0, 0, ''),\n",
       "  Text(0, 0, ''),\n",
       "  Text(0, 0, ''),\n",
       "  Text(0, 0, '')])"
      ]
     },
     "execution_count": 37,
     "metadata": {},
     "output_type": "execute_result"
    },
    {
     "data": {
      "image/png": "[encoded data removed]",
      "text/plain": [
       "<Figure size 720x360 with 1 Axes>"
      ]
     },
     "metadata": {
      "needs_background": "light"
     },
     "output_type": "display_data"
    }
   ],
   "source": [
    "barh_chart('housing')\n",
    "plt.title(\"HOUSING\", pad=10, fontsize = 20)\n",
    "plt.xticks(rotation = 45)"
   ]
  },
  {
   "cell_type": "markdown",
   "id": "0fa9f600",
   "metadata": {},
   "source": [
    "Berdasarkan hasil diatas, diketahui bahwa kepemilikan pinjaman atas nama pribadi, baik kelompok client tanpa pinjaman (0) maupun dengan pinjaman (1) memiliki kecenderungan untuk tidak bergabung menjadi nasabah bank. Namun, perlu diperhatikan bahwa sebagian besar client bank pada dataset merupakan orang dengan tanggungan pinjaman atas nama pribadi."
   ]
  },
  {
   "cell_type": "markdown",
   "id": "1415e154",
   "metadata": {},
   "source": [
    "---\n",
    "# Persiapan Model Machine Learning\n",
    "---"
   ]
  },
  {
   "cell_type": "markdown",
   "id": "909307f9",
   "metadata": {},
   "source": [
    "Model Machine Learning yang akan kita buat :\n",
    "1. Logistic Regression\n",
    "2. K-Nearest Neighbour\n",
    "3. Support Vector Machine\n",
    "4. Decision Tree\n",
    "5. Random Forest\n",
    "6. Naive Bayes\n",
    "7. Confusion Matrix"
   ]
  },
  {
   "cell_type": "markdown",
   "id": "4d6ed0df",
   "metadata": {},
   "source": [
    "Data Preparation\n",
    "\n",
    "Sebelumnya kita akan menghapus ('contact', 'poutcome') tidak memiliki pengaruh terhadap keputusan klien untuk bergabung menjadi nasabah bank atau tidak."
   ]
  },
  {
   "cell_type": "code",
   "execution_count": 38,
   "id": "419ca25a",
   "metadata": {},
   "outputs": [],
   "source": [
    "df_bank_full = df_bank_full.drop(columns=['contact','poutcome'])"
   ]
  },
  {
   "cell_type": "markdown",
   "id": "09912c9c",
   "metadata": {},
   "source": [
    "Selanjutnya menyiapkan data training dan data testing."
   ]
  },
  {
   "cell_type": "code",
   "execution_count": 39,
   "id": "a7c57b69",
   "metadata": {},
   "outputs": [],
   "source": [
    "X = df_bank_full.drop('y', axis=1)\n",
    "y = df_bank_full['y']\n",
    "\n",
    "X_train, X_test, y_train, y_test = train_test_split(X, y, test_size = 0.25, random_state =1)"
   ]
  },
  {
   "cell_type": "markdown",
   "id": "dd672ce3",
   "metadata": {},
   "source": [
    "---\n",
    "### Logistic Regression"
   ]
  },
  {
   "cell_type": "code",
   "execution_count": 40,
   "id": "40298f14",
   "metadata": {},
   "outputs": [
    {
     "name": "stdout",
     "output_type": "stream",
     "text": [
      "              precision    recall  f1-score   support\n",
      "\n",
      "           0       0.90      0.98      0.94      9974\n",
      "           1       0.57      0.20      0.29      1328\n",
      "\n",
      "    accuracy                           0.89     11302\n",
      "   macro avg       0.73      0.59      0.62     11302\n",
      "weighted avg       0.86      0.89      0.86     11302\n",
      "\n",
      "Accuracy: 0.8879844275349495\n"
     ]
    }
   ],
   "source": [
    "lr_model = LogisticRegression(solver='liblinear', C=0.05, multi_class='ovr', random_state=1)\n",
    "lr_model.fit(X_train, y_train)\n",
    "logreg_pred = lr_model.predict(X_test)\n",
    "\n",
    "print(classification_report(y_test, logreg_pred))\n",
    "print(\"Accuracy:\",metrics.accuracy_score(y_test, logreg_pred))"
   ]
  },
  {
   "cell_type": "markdown",
   "id": "556b32d4",
   "metadata": {},
   "source": [
    "Berdasarkan hasil dan tabel classification_report di atas, didapatkan hasil akurasi model yang cukup baik yaitu 89%. Akan tetapi, hasil precision, recall, dan f1-score untuk kelas 'yes' (subscribe) masih kurang baik."
   ]
  },
  {
   "cell_type": "markdown",
   "id": "5acc15c4",
   "metadata": {},
   "source": [
    "---\n",
    "### K-Nearest Neighbour"
   ]
  },
  {
   "cell_type": "code",
   "execution_count": 41,
   "id": "2f802c16",
   "metadata": {},
   "outputs": [
    {
     "name": "stdout",
     "output_type": "stream",
     "text": [
      "              precision    recall  f1-score   support\n",
      "\n",
      "           0       0.96      0.91      0.94     10590\n",
      "           1       0.27      0.50      0.35       712\n",
      "\n",
      "    accuracy                           0.88     11302\n",
      "   macro avg       0.62      0.70      0.64     11302\n",
      "weighted avg       0.92      0.88      0.90     11302\n",
      "\n",
      "Accuracy: 0.8824986728012741\n"
     ]
    }
   ],
   "source": [
    "knn_model = KNeighborsClassifier(n_neighbors=5, weights='uniform', \n",
    "                                 algorithm='auto', leaf_size=30, p=2, \n",
    "                                 metric='minkowski', metric_params=None)\n",
    "\n",
    "# Melatih model menggunakan data train\n",
    "knn_model.fit(X_train, y_train)\n",
    "\n",
    "# Hasil predict\n",
    "knn_pred = knn_model.predict(X_test)\n",
    "\n",
    "print(classification_report(knn_pred,y_test))\n",
    "print(\"Accuracy:\",metrics.accuracy_score( knn_pred,y_test))"
   ]
  },
  {
   "cell_type": "markdown",
   "id": "59b16f72",
   "metadata": {},
   "source": [
    "Berdasarkan hasil dan tabel classification_report di atas, didapatkan hasil akurasi model yang cukup baik yaitu 88%. Akan tetapi, hasil precision, recall, dan f1-score untuk kelas 'yes' (subscribe) masih kurang baik."
   ]
  },
  {
   "cell_type": "markdown",
   "id": "b0be48a3",
   "metadata": {},
   "source": [
    "---\n",
    "### Support Vector Machine"
   ]
  },
  {
   "cell_type": "code",
   "execution_count": 42,
   "id": "1a159c78",
   "metadata": {},
   "outputs": [
    {
     "name": "stderr",
     "output_type": "stream",
     "text": [
      "C:\\Users\\Acer\\anaconda3\\lib\\site-packages\\sklearn\\svm\\_base.py:1206: ConvergenceWarning: Liblinear failed to converge, increase the number of iterations.\n",
      "  warnings.warn(\n"
     ]
    },
    {
     "data": {
      "text/plain": [
       "LinearSVC()"
      ]
     },
     "execution_count": 42,
     "metadata": {},
     "output_type": "execute_result"
    }
   ],
   "source": [
    "svm_model = LinearSVC()\n",
    "svm_model.fit(X_train,y_train)"
   ]
  },
  {
   "cell_type": "code",
   "execution_count": 43,
   "id": "f9bfbd85",
   "metadata": {},
   "outputs": [
    {
     "name": "stdout",
     "output_type": "stream",
     "text": [
      "0.6995723344639434\n"
     ]
    }
   ],
   "source": [
    "svm_score_train = svm_model.score(X_train, y_train)\n",
    "print(svm_score_train)"
   ]
  },
  {
   "cell_type": "code",
   "execution_count": 44,
   "id": "b0921210",
   "metadata": {},
   "outputs": [
    {
     "name": "stderr",
     "output_type": "stream",
     "text": [
      "C:\\Users\\Acer\\anaconda3\\lib\\site-packages\\sklearn\\svm\\_base.py:1206: ConvergenceWarning: Liblinear failed to converge, increase the number of iterations.\n",
      "  warnings.warn(\n"
     ]
    },
    {
     "data": {
      "text/plain": [
       "LinearSVC()"
      ]
     },
     "execution_count": 44,
     "metadata": {},
     "output_type": "execute_result"
    }
   ],
   "source": [
    "svm_model.fit(X_test,y_test)"
   ]
  },
  {
   "cell_type": "code",
   "execution_count": 45,
   "id": "c972fe5f",
   "metadata": {},
   "outputs": [
    {
     "name": "stdout",
     "output_type": "stream",
     "text": [
      "0.875862679171828\n"
     ]
    }
   ],
   "source": [
    "svm_score_test = svm_model.score(X_test, y_test)\n",
    "print(svm_score_test)"
   ]
  },
  {
   "cell_type": "code",
   "execution_count": 46,
   "id": "76a4dc8d",
   "metadata": {},
   "outputs": [
    {
     "name": "stdout",
     "output_type": "stream",
     "text": [
      "              precision    recall  f1-score   support\n",
      "\n",
      "           0       0.96      0.91      0.93     10559\n",
      "           1       0.25      0.45      0.32       743\n",
      "\n",
      "    accuracy                           0.88     11302\n",
      "   macro avg       0.61      0.68      0.63     11302\n",
      "weighted avg       0.91      0.88      0.89     11302\n",
      "\n"
     ]
    }
   ],
   "source": [
    "svm_pred = svm_model.predict(X_test)\n",
    "print(classification_report(svm_pred,y_test))"
   ]
  },
  {
   "cell_type": "markdown",
   "id": "defc346c",
   "metadata": {},
   "source": [
    "Berdasarkan hasil dan tabel classification_report di atas, didapatkan hasil akurasi model yang cukup baik yaitu 87%. Akan tetapi, hasil precision, recall, dan f1-score untuk kelas 'yes' (subscribe) masih kurang baik."
   ]
  },
  {
   "cell_type": "markdown",
   "id": "a279cae5",
   "metadata": {},
   "source": [
    "---\n",
    "### Decision Tree"
   ]
  },
  {
   "cell_type": "code",
   "execution_count": 47,
   "id": "5b652d20",
   "metadata": {},
   "outputs": [
    {
     "name": "stdout",
     "output_type": "stream",
     "text": [
      "              precision    recall  f1-score   support\n",
      "\n",
      "           0       0.93      0.92      0.93      9974\n",
      "           1       0.45      0.48      0.46      1328\n",
      "\n",
      "    accuracy                           0.87     11302\n",
      "   macro avg       0.69      0.70      0.69     11302\n",
      "weighted avg       0.87      0.87      0.87     11302\n",
      "\n",
      "Accuracy: 0.8690497257122634\n"
     ]
    }
   ],
   "source": [
    "# Create Decision Tree classifer object\n",
    "dt_model = DecisionTreeClassifier()\n",
    "\n",
    "# Train Decision Tree Classifer\n",
    "dt_model = dt_model.fit(X_train,y_train)\n",
    "\n",
    "# Predict the response for test dataset\n",
    "dt_pred = dt_model.predict(X_test)\n",
    "\n",
    "print(classification_report(y_test, dt_pred))\n",
    "print(\"Accuracy:\",metrics.accuracy_score(y_test, dt_pred))"
   ]
  },
  {
   "cell_type": "markdown",
   "id": "1abc7315",
   "metadata": {},
   "source": [
    "Berdasarkan hasil dan tabel classification_report di atas, didapatkan hasil akurasi model yang cukup baik yaitu 87%."
   ]
  },
  {
   "cell_type": "markdown",
   "id": "9fe0cf6b",
   "metadata": {},
   "source": [
    "---\n",
    "### Random Forest"
   ]
  },
  {
   "cell_type": "code",
   "execution_count": 48,
   "id": "353d7966",
   "metadata": {},
   "outputs": [
    {
     "name": "stdout",
     "output_type": "stream",
     "text": [
      "              precision    recall  f1-score   support\n",
      "\n",
      "           0       0.92      0.97      0.95      9974\n",
      "           1       0.63      0.39      0.48      1328\n",
      "\n",
      "    accuracy                           0.90     11302\n",
      "   macro avg       0.78      0.68      0.71     11302\n",
      "weighted avg       0.89      0.90      0.89     11302\n",
      "\n",
      "Accuracy: 0.9016988143691382\n"
     ]
    }
   ],
   "source": [
    "rf_model = RandomForestClassifier(n_estimators=100)\n",
    " \n",
    "rf_model.fit(X_train,y_train) \n",
    "\n",
    "randfor_pred = rf_model.predict(X_test)\n",
    "\n",
    "print(classification_report(y_test, randfor_pred))\n",
    "print(\"Accuracy:\",metrics.accuracy_score(y_test, randfor_pred))"
   ]
  },
  {
   "cell_type": "markdown",
   "id": "9b676bcb",
   "metadata": {},
   "source": [
    "Berdasarkan hasil dan tabel classification_report di atas, didapatkan hasil akurasi model yang cukup baik yaitu 90%."
   ]
  },
  {
   "cell_type": "markdown",
   "id": "9c8edda3",
   "metadata": {},
   "source": [
    "---\n",
    "### Naive Bayes\n"
   ]
  },
  {
   "cell_type": "code",
   "execution_count": 49,
   "id": "b85d028f",
   "metadata": {},
   "outputs": [
    {
     "name": "stdout",
     "output_type": "stream",
     "text": [
      "              precision    recall  f1-score   support\n",
      "\n",
      "           0       0.92      0.92      0.92      9974\n",
      "           1       0.41      0.39      0.40      1328\n",
      "\n",
      "    accuracy                           0.86     11302\n",
      "   macro avg       0.66      0.66      0.66     11302\n",
      "weighted avg       0.86      0.86      0.86     11302\n",
      "\n",
      "Accuracy: 0.8619713325075208\n"
     ]
    }
   ],
   "source": [
    "nb_model = GaussianNB()\n",
    "\n",
    "nb_model.fit(X_train,y_train)\n",
    "\n",
    "nb_pred = nb_model.predict(X_test)\n",
    "\n",
    "print(classification_report(y_test, nb_pred))\n",
    "print(\"Accuracy:\",metrics.accuracy_score(y_test, nb_pred))"
   ]
  },
  {
   "cell_type": "markdown",
   "id": "b4418927",
   "metadata": {},
   "source": [
    "Berdasarkan hasil dan tabel classification_report di atas, didapatkan hasil akurasi model yang cukup baik yaitu 86%."
   ]
  },
  {
   "cell_type": "markdown",
   "id": "444bd247",
   "metadata": {},
   "source": [
    "---\n",
    "### Confusion Matrix"
   ]
  },
  {
   "cell_type": "markdown",
   "id": "adee9386",
   "metadata": {},
   "source": [
    "Logistik Regression Confusion Matrix"
   ]
  },
  {
   "cell_type": "code",
   "execution_count": 50,
   "id": "ad149608",
   "metadata": {},
   "outputs": [
    {
     "data": {
      "image/png": "[encoded data removed]",
      "text/plain": [
       "<Figure size 288x288 with 1 Axes>"
      ]
     },
     "metadata": {
      "needs_background": "light"
     },
     "output_type": "display_data"
    }
   ],
   "source": [
    "cm = confusion_matrix(y_test, logreg_pred)\n",
    "fig, ax = plt.subplots(figsize=(4, 4))\n",
    "\n",
    "plt.title(\"Logistic Regression Confusion Matrix\")\n",
    "\n",
    "ax.imshow(cm)\n",
    "ax.grid(False)\n",
    "ax.xaxis.set(ticks=(0, 1), ticklabels=('Predicted 0s', 'Predicted 1s'))\n",
    "ax.yaxis.set(ticks=(0, 1), ticklabels=('Actual 0s', 'Actual 1s'))\n",
    "ax.set_ylim(1.5, -0.5)\n",
    "for i in range(2):\n",
    "    for j in range(2):\n",
    "        ax.text(j, i, cm[i, j], ha='center', va='center', color='red')\n",
    "plt.show()"
   ]
  },
  {
   "cell_type": "markdown",
   "id": "2e6a10c1",
   "metadata": {},
   "source": [
    "K-Nearest Neighbour Confusion Matrix"
   ]
  },
  {
   "cell_type": "code",
   "execution_count": 51,
   "id": "6ac604c2",
   "metadata": {},
   "outputs": [
    {
     "data": {
      "image/png": "[encoded data removed]",
      "text/plain": [
       "<Figure size 288x288 with 1 Axes>"
      ]
     },
     "metadata": {
      "needs_background": "light"
     },
     "output_type": "display_data"
    }
   ],
   "source": [
    "cm = confusion_matrix(y_test, knn_pred)\n",
    "fig, ax = plt.subplots(figsize=(4, 4))\n",
    "plt.title(\"K-Nearest Neighbour Confusion Matrix\")\n",
    "\n",
    "ax.imshow(cm)\n",
    "ax.grid(False)\n",
    "ax.xaxis.set(ticks=(0, 1), ticklabels=('Predicted 0s', 'Predicted 1s'))\n",
    "ax.yaxis.set(ticks=(0, 1), ticklabels=('Actual 0s', 'Actual 1s'))\n",
    "ax.set_ylim(1.5, -0.5)\n",
    "for i in range(2):\n",
    "    for j in range(2):\n",
    "        ax.text(j, i, cm[i, j], ha='center', va='center', color='red')\n",
    "plt.show()"
   ]
  },
  {
   "cell_type": "markdown",
   "id": "74e33d12",
   "metadata": {},
   "source": [
    "Suport Vector Machine Confusion Matrix"
   ]
  },
  {
   "cell_type": "code",
   "execution_count": 53,
   "id": "e6e939e9",
   "metadata": {},
   "outputs": [
    {
     "data": {
      "image/png": "[encoded data removed]",
      "text/plain": [
       "<Figure size 288x288 with 1 Axes>"
      ]
     },
     "metadata": {
      "needs_background": "light"
     },
     "output_type": "display_data"
    }
   ],
   "source": [
    "cm = confusion_matrix(y_test, svm_pred)\n",
    "fig, ax = plt.subplots(figsize=(4, 4))\n",
    "plt.title(\"Suport Vector Machine Confusion Matrix\")\n",
    "\n",
    "ax.imshow(cm)\n",
    "ax.grid(False)\n",
    "ax.xaxis.set(ticks=(0, 1), ticklabels=('Predicted 0s', 'Predicted 1s'))\n",
    "ax.yaxis.set(ticks=(0, 1), ticklabels=('Actual 0s', 'Actual 1s'))\n",
    "ax.set_ylim(1.5, -0.5)\n",
    "for i in range(2):\n",
    "    for j in range(2):\n",
    "        ax.text(j, i, cm[i, j], ha='center', va='center', color='red')\n",
    "plt.show()"
   ]
  },
  {
   "cell_type": "markdown",
   "id": "eedb1e24",
   "metadata": {},
   "source": [
    "Decision Tree Confusion Matrix"
   ]
  },
  {
   "cell_type": "code",
   "execution_count": 54,
   "id": "09241f58",
   "metadata": {},
   "outputs": [
    {
     "data": {
      "image/png": "[encoded data removed]",
      "text/plain": [
       "<Figure size 288x288 with 1 Axes>"
      ]
     },
     "metadata": {
      "needs_background": "light"
     },
     "output_type": "display_data"
    }
   ],
   "source": [
    "cm = confusion_matrix(y_test, dt_pred)\n",
    "fig, ax = plt.subplots(figsize=(4, 4))\n",
    "\n",
    "plt.title(\"Decision Tree Confusion Matrix\")\n",
    "\n",
    "ax.imshow(cm)\n",
    "ax.grid(False)\n",
    "ax.xaxis.set(ticks=(0, 1), ticklabels=('Predicted 0s', 'Predicted 1s'))\n",
    "ax.yaxis.set(ticks=(0, 1), ticklabels=('Actual 0s', 'Actual 1s'))\n",
    "ax.set_ylim(1.5, -0.5)\n",
    "for i in range(2):\n",
    "    for j in range(2):\n",
    "        ax.text(j, i, cm[i, j], ha='center', va='center', color='red')\n",
    "plt.show()"
   ]
  },
  {
   "cell_type": "markdown",
   "id": "997eef34",
   "metadata": {},
   "source": [
    "Random Forest Confusion Matrix"
   ]
  },
  {
   "cell_type": "code",
   "execution_count": 55,
   "id": "f57a0f21",
   "metadata": {},
   "outputs": [
    {
     "data": {
      "image/png": "[encoded data removed]",
      "text/plain": [
       "<Figure size 288x288 with 1 Axes>"
      ]
     },
     "metadata": {
      "needs_background": "light"
     },
     "output_type": "display_data"
    }
   ],
   "source": [
    "cm = confusion_matrix(y_test, randfor_pred)\n",
    "fig, ax = plt.subplots(figsize=(4, 4))\n",
    "\n",
    "plt.title(\"Random Forest Confusion Matrix\")\n",
    "\n",
    "ax.imshow(cm)\n",
    "ax.grid(False)\n",
    "ax.xaxis.set(ticks=(0, 1), ticklabels=('Predicted 0s', 'Predicted 1s'))\n",
    "ax.yaxis.set(ticks=(0, 1), ticklabels=('Actual 0s', 'Actual 1s'))\n",
    "ax.set_ylim(1.5, -0.5)\n",
    "for i in range(2):\n",
    "    for j in range(2):\n",
    "        ax.text(j, i, cm[i, j], ha='center', va='center', color='red')\n",
    "plt.show()"
   ]
  },
  {
   "cell_type": "markdown",
   "id": "13f42278",
   "metadata": {},
   "source": [
    "Naive Bayes Confusion Matrix"
   ]
  },
  {
   "cell_type": "code",
   "execution_count": 56,
   "id": "252d1017",
   "metadata": {},
   "outputs": [
    {
     "data": {
      "image/png": "[encoded data removed]",
      "text/plain": [
       "<Figure size 288x288 with 1 Axes>"
      ]
     },
     "metadata": {
      "needs_background": "light"
     },
     "output_type": "display_data"
    }
   ],
   "source": [
    "cm = confusion_matrix(y_test, nb_pred)\n",
    "fig, ax = plt.subplots(figsize=(4, 4))\n",
    "\n",
    "plt.title(\"Naive Bayes Confusion Matrix\")\n",
    "\n",
    "ax.imshow(cm)\n",
    "ax.grid(False)\n",
    "ax.xaxis.set(ticks=(0, 1), ticklabels=('Predicted 0s', 'Predicted 1s'))\n",
    "ax.yaxis.set(ticks=(0, 1), ticklabels=('Actual 0s', 'Actual 1s'))\n",
    "ax.set_ylim(1.5, -0.5)\n",
    "for i in range(2):\n",
    "    for j in range(2):\n",
    "        ax.text(j, i, cm[i, j], ha='center', va='center', color='red')\n",
    "plt.show()"
   ]
  },
  {
   "cell_type": "markdown",
   "id": "679a40ec",
   "metadata": {},
   "source": [
    "---\n",
    "# KESIMPULAN"
   ]
  },
  {
   "cell_type": "markdown",
   "id": "ab3fa23b",
   "metadata": {},
   "source": [
    "Berdasarkan keseluruhan hasil diatas, dapat diambil kesimpulan :\n",
    "1. Sebanyak 39919 client yang belum menjadi nasabah dan 5289 client sudah menjadi nasabah di bank tersebut.\n",
    "2. Dari beberapa pemodelan Machine Learning yang sudah dilakukan, semuanya memiliki akurasi yang cukup baik. Adapun hasil akurasi dari model-model Machine Learning yang digunakan :\n",
    "     1. Logistic Regression = 89%\n",
    "     2. K-Nearest Neighbour = 88%\n",
    "     3. Support Vector Machine = 87%\n",
    "     4. Decision Tree = 87%\n",
    "     5. Random Forest = 90%\n",
    "     6. Naive Bayes = 86%\n",
    "Walaupun akurasi dari setiap model yang digunakan cukup baik, tetapi precision, recall, dan f1-score untuk salah satu kelas variabel target masih kurang baik. Hal ini bisa saja disebabkan oleh ketidakseimbangan data target (imbalance data) sehingga diperlukan eksplorasi yang lebih mendalam terhadap data pada tahap EDA.\n"
   ]
  }
 ],
 "metadata": {
  "kernelspec": {
   "display_name": "Python 3 (ipykernel)",
   "language": "python",
   "name": "python3"
  },
  "language_info": {
   "codemirror_mode": {
    "name": "ipython",
    "version": 3
   },
   "file_extension": ".py",
   "mimetype": "text/x-python",
   "name": "python",
   "nbconvert_exporter": "python",
   "pygments_lexer": "ipython3",
   "version": "3.9.12"
  }
 },
 "nbformat": 4,
 "nbformat_minor": 5
}
